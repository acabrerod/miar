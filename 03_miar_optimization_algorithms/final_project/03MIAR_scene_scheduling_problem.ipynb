{
  "cells": [
    {
      "cell_type": "markdown",
      "metadata": {
        "id": "hVbXYX-RfPWh"
      },
      "source": [
        "# Algoritmos de optimización - Seminario\n",
        "\n",
        "Nombre y Apellidos: Alfonso Cabrero de Diego<br>\n",
        "\n",
        "Url: [Enlace a GitHub](https://github.com/acabrerod/miar/blob/main/03_miar_optimization_algorithms/final_project/03MIAR_scene_scheduling_problem.ipynb)<br>\n",
        "\n",
        "Problema: *SESIONES DE DOBLAJE*\n",
        "\n",
        "\n",
        "## Descripción del problema\n",
        "\n",
        "Se precisa coordinar el doblaje de una película. Los actores del doblaje deben coincidir en las tomas en las que sus personajes aparecen juntos en las diferentes tomas. Los actores de doblaje cobran todos la misma cantidad por cada día que deben desplazarse hasta el estudio de grabación independientemente del número de tomas que se graben. No es posible grabar más de 6 tomas por día. El objetivo es planificar las sesiones por día de manera que el gasto por los servicios de los actores de doblaje sea el menor posible. Los datos son:\n",
        "\n",
        "- Número de actores: $n = 10$\n",
        "- Número de tomas : $m  = 30$\n",
        "- Matriz de asignacion de actores a tomas : [https://bit.ly/36D8IuK](https://bit.ly/36D8IuK)\n",
        "\n",
        "\n",
        "---\n",
        "\n",
        "## Formulación del problema\n",
        "\n",
        "El *scene scheduling problem* descrito arriba, puede formularse como el siguiente problema de programación lineal entera:\n",
        "\n",
        "$$\n",
        "\\large\n",
        "\\begin{aligned}\n",
        "\\min \\quad & \\{\\text{coste de rodaje}\\} \\\\\n",
        "\\text{sujeto a} \\quad & \\text{Número de tomas por día} \\leq  L \\\\\n",
        "\\end{aligned}\n",
        "$$\n",
        "\n",
        "Para su formulación, se definen las siguientes variables:\n",
        "\n",
        "Sea $L = 6$ el número límite de tomas que se pueden grabar en un mismo día.\n",
        "\n",
        "Sea $N \\geq \\left\\lceil \\frac{m}{L} \\right\\rceil$ el número de días para grabar todas las tomas.\n",
        "\n",
        "Sea $c_{ij} \\in \\{0, 1\\} =$ una constante que indica si el actor $i$ participa en la toma $j$ ;  $i = 1, \\ldots n, j = 1, \\ldots, m$\n",
        "\n",
        "Entonces la matriz $C = \\{ c_{ij} \\}_{\\substack{i=1,\\ldots,n \\\\ j=1,\\ldots,m}} \\in \\mathcal{M}_{m \\times n}$ es la matriz de asignaciones de tomas a actores, definida de la siguiente manera:\n",
        "\n",
        "$$\n",
        "C = \\overbrace{\n",
        "\\begin{bmatrix}\n",
        "1 & 1 & 1 & 1 & 1 & 0 & 0 & 0 & 0 & 0 \\\\\n",
        "0 & 0 & 1 & 1 & 1 & 0 & 0 & 0 & 0 & 0 \\\\\n",
        "0 & 1 & 0 & 0 & 1 & 0 & 1 & 0 & 0 & 0 \\\\\n",
        "1 & 1 & 0 & 0 & 0 & 0 & 1 & 1 & 0 & 0 \\\\\n",
        "0 & 1 & 0 & 1 & 0 & 0 & 0 & 1 & 0 & 0 \\\\\n",
        "1 & 1 & 0 & 1 & 1 & 0 & 0 & 0 & 0 & 0 \\\\\n",
        "1 & 1 & 0 & 1 & 1 & 0 & 0 & 0 & 0 & 0 \\\\\n",
        "1 & 1 & 0 & 0 & 0 & 1 & 0 & 0 & 0 & 0 \\\\\n",
        "1 & 1 & 0 & 1 & 0 & 0 & 0 & 0 & 0 & 0 \\\\\n",
        "1 & 1 & 0 & 0 & 0 & 1 & 0 & 0 & 1 & 0 \\\\\n",
        "1 & 1 & 1 & 0 & 1 & 0 & 0 & 1 & 0 & 0 \\\\\n",
        "1 & 1 & 1 & 1 & 0 & 1 & 0 & 0 & 0 & 0 \\\\\n",
        "1 & 0 & 0 & 1 & 1 & 0 & 0 & 0 & 0 & 0 \\\\\n",
        "1 & 0 & 1 & 0 & 0 & 1 & 0 & 0 & 0 & 0 \\\\\n",
        "1 & 1 & 0 & 0 & 0 & 0 & 1 & 0 & 0 & 0 \\\\\n",
        "0 & 0 & 0 & 1 & 0 & 0 & 0 & 0 & 0 & 1 \\\\\n",
        "1 & 0 & 1 & 0 & 0 & 0 & 0 & 0 & 0 & 0 \\\\\n",
        "0 & 0 & 1 & 0 & 0 & 1 & 0 & 0 & 0 & 0 \\\\\n",
        "1 & 0 & 1 & 0 & 0 & 0 & 0 & 0 & 0 & 0 \\\\\n",
        "1 & 0 & 1 & 1 & 1 & 0 & 0 & 0 & 0 & 0 \\\\\n",
        "0 & 0 & 0 & 0 & 0 & 1 & 0 & 1 & 0 & 0 \\\\\n",
        "1 & 1 & 1 & 1 & 0 & 0 & 0 & 0 & 0 & 0 \\\\\n",
        "1 & 0 & 1 & 0 & 0 & 0 & 0 & 0 & 0 & 0 \\\\\n",
        "0 & 0 & 1 & 0 & 0 & 1 & 0 & 0 & 0 & 0 \\\\\n",
        "1 & 1 & 0 & 1 & 0 & 0 & 0 & 0 & 0 & 1 \\\\\n",
        "1 & 0 & 1 & 0 & 1 & 0 & 0 & 0 & 1 & 0 \\\\\n",
        "0 & 0 & 0 & 1 & 1 & 0 & 0 & 0 & 0 & 0 \\\\\n",
        "1 & 0 & 0 & 1 & 0 & 0 & 0 & 0 & 0 & 0 \\\\\n",
        "1 & 0 & 0 & 0 & 1 & 1 & 0 & 0 & 0 & 0 \\\\\n",
        "1 & 0 & 0 & 1 & 0 & 0 & 0 & 0 & 0 & 0 \\\\\n",
        "\\end{bmatrix}\n",
        "}^{\\text{Actores del 1 al 10}}\n",
        "$$\n",
        "\n",
        "Sea $y_{jk} \\in \\{0, 1\\} = $ una variable binaria que indica si se graba la toma $j$ en el día $k$.\n",
        "\n",
        "Sea $w_k = \\sum_{i = 1}^n \\mathbb{I} \\left( \\sum_{j = 1}^m c_{ij} y_{jk} > 0\\right)$ el número de actores únicos necesitos en el día. \n",
        "La notación $\\mathbb{I} (.)$ denota *indicador de*, que se utiliza para evitar contar los actores más de una vez.\n",
        "\n",
        "\n",
        "Entonces, el problema se puede formular matemáticamente minimizando la suma de $w_k$, es decir, las dietas de los actores:\n",
        "\n",
        "$$\n",
        "\\large\n",
        "\\begin{aligned}\n",
        "\\min \\quad & \\sum_{k = 1}^N w_k = \\sum_{k = 1}^N \\sum_{i = 1}^n \\mathbb{I} \\left( \\sum_{j = 1}^m c_{ij} y_{jk} > 0\\right) \\\\\n",
        "\\text{sujeto a} \\quad & \\sum_{j = 1}^m y_{jk} \\leq L \\quad & k = 1, \\ldots, N \\quad & \\text{(límite por día de tomas)} \\\\\n",
        "\\quad & \\sum_{k = 1}^N y_{jk} = 1 \\quad & j = 1, \\ldots, m \\quad & \\text{(se deben grabar todas las tomas)} \\\\\n",
        "\\quad & y_{jk} \\in \\{0, 1\\} & \\quad j = 1, \\ldots, m ; k = 1, \\ldots, N \\quad & \\text{(variables binarias)} \\\\\n",
        "\\end{aligned}\n",
        "$$\n",
        "\n",
        "El principal problema es que $N$ es desconocido a priori, por lo que las dimensiones de la matriz $Y = \\{ y_{jk} \\}$ también son indeterminadas. \n",
        "No obstante, podemos pensar que el coste mínimo para el rodaje se alcanzará con el número de días lo más reducido posible, lo que permite concentrar y optimizar al máximo los días de trabajo de los actores.\n",
        "Por tanto, aumentar el número disponible de días de rodaje no es capaz per se de reducir el coste total, si bien no lo aumenta. Definiremos por tanto la constante $N = \\left\\lceil \\frac{m}{L} \\right\\rceil = 5$.\n"
      ]
    },
    {
      "cell_type": "code",
      "execution_count": 1,
      "metadata": {},
      "outputs": [],
      "source": [
        "import numpy as np"
      ]
    },
    {
      "cell_type": "code",
      "execution_count": 2,
      "metadata": {
        "id": "AiskKkzZfy4e"
      },
      "outputs": [],
      "source": [
        "n, m = 10, 30   # Número de actores y número de tomas\n",
        "L = 6           # Límite del número de tomas por cada día\n",
        "N = 5           # Número de días disponibles\n",
        "\n",
        "C = np.array([  # Matriz de asignaciones tomas-actores\n",
        "    [1,1,1,1,1,0,0,0,0,0],\n",
        "    [0,0,1,1,1,0,0,0,0,0],\n",
        "    [0,1,0,0,1,0,1,0,0,0],\n",
        "    [1,1,0,0,0,0,1,1,0,0],\n",
        "    [0,1,0,1,0,0,0,1,0,0],\n",
        "    [1,1,0,1,1,0,0,0,0,0],\n",
        "    [1,1,0,1,1,0,0,0,0,0],\n",
        "    [1,1,0,0,0,1,0,0,0,0],\n",
        "    [1,1,0,1,0,0,0,0,0,0],\n",
        "    [1,1,0,0,0,1,0,0,1,0],\n",
        "    [1,1,1,0,1,0,0,1,0,0],\n",
        "    [1,1,1,1,0,1,0,0,0,0],\n",
        "    [1,0,0,1,1,0,0,0,0,0],\n",
        "    [1,0,1,0,0,1,0,0,0,0],\n",
        "    [1,1,0,0,0,0,1,0,0,0],\n",
        "    [0,0,0,1,0,0,0,0,0,1],\n",
        "    [1,0,1,0,0,0,0,0,0,0],\n",
        "    [0,0,1,0,0,1,0,0,0,0],\n",
        "    [1,0,1,0,0,0,0,0,0,0],\n",
        "    [1,0,1,1,1,0,0,0,0,0],\n",
        "    [0,0,0,0,0,1,0,1,0,0],\n",
        "    [1,1,1,1,0,0,0,0,0,0],\n",
        "    [1,0,1,0,0,0,0,0,0,0],\n",
        "    [0,0,1,0,0,1,0,0,0,0],\n",
        "    [1,1,0,1,0,0,0,0,0,1],\n",
        "    [1,0,1,0,1,0,0,0,1,0],\n",
        "    [0,0,0,1,1,0,0,0,0,0],\n",
        "    [1,0,0,1,0,0,0,0,0,0],\n",
        "    [1,0,0,0,1,1,0,0,0,0],\n",
        "    [1,0,0,1,0,0,0,0,0,0],\n",
        "], dtype = bool).T\n",
        "\n",
        "# Matriz de asignaciones tomas-dias:\n",
        "#       Cada toma se debe realizar en algún día, y no se pueden\n",
        "#       realizar más de 6 tomas en un mismo día\n",
        "Y = np.zeros((m, N), dtype = bool)\n",
        "\n",
        "# Conjunto de todas las tomas\n",
        "TOMAS = set(np.arange(0, m, dtype = np.uint8))"
      ]
    },
    {
      "cell_type": "markdown",
      "metadata": {
        "id": "3_-exlrTgLd-"
      },
      "source": [
        "***\n",
        "\n",
        "### (*) ¿Cuántas posibilidades hay sin tener en cuenta las restricciones?\n",
        "\n",
        "Partiendo de la formulación, es evidente que todas las posibles soluciones del problema parten de todas las posibles combinaciones de la matriz $Y$. \n",
        "Si no se tienen en cuenta las restricciones, es decir, que todas las tomas de realizen siempre y en un único día, y que solo se puedan grabar un máximo de 6 por día, todas las combinaciones posibles serían las siguientes:\n",
        "\n",
        "$$\n",
        "\\large\n",
        "2^{m \\cdot N}\n",
        "$$ <!-- 2^{30 \\cdot N} = 2^{150} \\approx 1,427 \\times 10^{45} -->\n",
        "\n",
        "Ya que se trata una matriz binaria de $m \\cdot N$ entradas.\n",
        "El número concreto depende del número de días de grabación. \n",
        "Al no estar limitado a 6 grabaciones por día, el valor óptimo sería $N=1$, con $1.074 \\times 10^9$  posibilidades. \n",
        "Aunque algunos otros valores posibles serían los siguientes:\n",
        "\n",
        "| N | $N = 1$               | $N = 2$               | $N = 3$               | $N = 4$               | $N = 5$               | $N = 6$             | ... |\n",
        "|------------------|----------------------|----------------------|----------------------|----------------------|----------------------|----------------------|-----|\n",
        "| $2^{30 \\cdot N}$| $1.074 \\times 10^9$ | $1.153 \\times 10^{18}$ | $1.238 \\times 10^{27}$ | $1.329 \\times 10^{36}$ | $1.427 \\times 10^{45}$ | $1.532 \\times 10^{54}$ | ... |\n",
        "\n",
        "Esta formulación no tiene en cuenta la restricción de que se deban realizar todas las tomas, por lo que todas las posiblidades reflejan todas las posibles combinaciones de tomas, ya sea no realizando ninguna (con todos los valores de $Y$ iguales a $0$), o realizando todas (todos los valores de $Y$ iguales a $1$, si $N>1$, se realizan todas las tomas todos los días), además de todas las posibilidades intermedias.\n",
        "\n",
        "\n",
        "<br>\n",
        "\n",
        "Sin embargo, otra formulación natural se puede realizar con un vector de enteros de $m$ entradas, donde cada una de las posiciones contiene un número entero entre $1$ y $N$. \n",
        "Esta formulación incluye de forma automática la restricción de que todas las tomas se deben realizar en un solo día, aunque sigue sin considerar el límite de 6 tomas por cada día. \n",
        "Con esta formulación, el número de posibilidades se reduce por varios órdenes de magnitud, que serían las siguientes:\n",
        "\n",
        "$$\n",
        "\\large\n",
        "N^m\n",
        "$$ <!-- = 5^{30} \\approx 9,313 \\times 10^{20} -->\n",
        "\n",
        "Ya que se trata de un vector de $m$ entradas, donde cada uno puede variar entre $N$ números enteros. \n",
        "El valor óptimo sin restricciones es lógicamente $N=1$, donde solo hay una posible combinación (se realizan todas las tomas), otros valores para $N$ son los siguientes:\n",
        "\n",
        "| N | $N = 1$               | $N = 2$               | $N = 3$               | $N = 4$               | $N = 5$               | $N = 6$             | ... |\n",
        "|------------------|----------------------|----------------------|----------------------|----------------------|----------------------|----------------------|-----|\n",
        "| $N^{30}$| $1$ | $1.074 \\times 10^9$ | $2.059 \\times 10^{14}$ | $1.153 \\times 10^{18}$ | $9.313 \\times 10^{20}$ | $2.211 \\times 10^{23}$ | ... |\n",
        "\n",
        "\n",
        "<br><br>\n",
        "\n",
        "---\n",
        "\n",
        "### ¿Cuántas posibilidades hay teniendo en cuenta todas las restricciones?\n",
        "\n",
        "Para considerar adicionalmente todas las restricciones, podíamos pensar en añadir a la segunda formulación, la del vector de enteros, la condición de que $N \\geq \\left\\lceil \\frac{m}{L} \\right\\rceil$.\n",
        "Tomando además $N=5$, ya que como se ha explicado, el número de días $N$ que minimiza el coste de la grabación será el más bajo posible, es decir, 5.\n",
        "Sin embargo, esta condición no es suficiente, ya que podía darse el caso de que todas las tomas se concentrasen en un mismo día, sin cumplir con la restricción.\n",
        "\n",
        "Para resolverlo, podemos pensar en crear 5 particiones de las 30 tomas, con 6 tomas cada una. \n",
        "Esto se parece al número combinatorio para extraer subconjuntos no ordenados de tamaño $k$ de un conjunto de tamaño $n$: $\\binom{n}{k}$.\n",
        "La diferencia en este caso es que tenemos que extraer 5 subconjuntos diferentes, y que sean además disjuntos entre sí.\n",
        "Podemos llegar a este cálculo a través del razonamiento visto en la referencia [1], inspirado en un muestreo sin reemplazamiento.\n",
        "\n",
        "Hay $ \\binom{30}{6} $ formas de elegir la primera partición (las tomas que se realizan el primer día), después hay $ \\binom{24}{6} $ formas de elegir las tomas que se realizan el segundo día entre las 24 tomas restantes que no se han grabado, etc ... El número total de combinaciones es el siguiente:\n",
        "\n",
        "$$\n",
        "\\large\n",
        "\\binom{30}{6} \\cdot \\binom{24}{6} \\cdot \\binom{18}{6} \\cdot \\binom{12}{6} \\cdot \\binom{6}{6}= \\frac{30!}{(6!)^5}\n",
        "$$\n",
        "\n",
        "Como además el orden de estos grupos no es relevante, podemos dividirlo por $5!$, obteniendo:\n",
        "\n",
        "$$\n",
        "\\large\n",
        "\\frac{30!}{(6!)^5 \\cdot 5!} \\approx 1.142 \\times 10^{16}\n",
        "$$\n",
        "\n",
        "Podemos leer este número como 11 mil 420 billones de combinaciones."
      ]
    },
    {
      "cell_type": "code",
      "execution_count": 3,
      "metadata": {},
      "outputs": [
        {
          "name": "stdout",
          "output_type": "stream",
          "text": [
            "Número de combinaciones con formulación de matriz binaria (depende del número de días):\n",
            "\tN = 1           N = 2           N = 3           N = 4           N = 5           N = 6           \n",
            "\t1.074e+09       1.153e+18       1.238e+27       1.329e+36       1.427e+45       1.532e+54       \n",
            "\n",
            "Número de combinaciones con formulación de vector de enteros (depende del número de días):\n",
            "\tN = 1           N = 2           N = 3           N = 4           N = 5           N = 6           \n",
            "\t1.000e+00       1.074e+09       2.059e+14       1.153e+18       9.313e+20       2.211e+23       \n",
            "\n",
            "Número de combinaciones con restricciones: 11_423_951_396_577_720 (1.142e+16)\n"
          ]
        }
      ],
      "source": [
        "print(f\"Número de combinaciones con formulación de matriz binaria (depende del número de días):\")\n",
        "print(f\"\\t{\"\".join([f'N = {i :<12}' for i in range(1, L + 1)])}\")\n",
        "print(f\"\\t{\"\".join([f'{2 ** (m * i):<16.3e}' for i in range(1, L + 1)])}\\n\")\n",
        "\n",
        "print(f\"Número de combinaciones con formulación de vector de enteros (depende del número de días):\")\n",
        "print(f\"\\t{\"\".join([f'N = {i :<12}' for i in range(1, 7)])}\")\n",
        "print(f\"\\t{\"\".join([f'{i ** m:<16.3e}' for i in range(1, 7)])}\\n\")\n",
        "\n",
        "\n",
        "import math \n",
        "combinaciones_con_restricciones = math.factorial(m) / (math.factorial(N) * math.factorial(6) ** N)\n",
        "print(f\"Número de combinaciones con restricciones: {int(combinaciones_con_restricciones):_} ({combinaciones_con_restricciones:.3e})\")"
      ]
    },
    {
      "cell_type": "markdown",
      "metadata": {
        "id": "dzynfVJahHoY"
      },
      "source": [
        "---\n",
        "---\n",
        "\n",
        "\n",
        "## Modelo para el espacio de soluciones\n",
        "\n",
        "---\n",
        "\n",
        "### (*) ¿Cuál es la estructura de datos que mejor se adapta al problema? Argumentalo (es posible que hayas elegido una al principio y veas la necesidad de cambiar, argumentalo).\n",
        "\n",
        "La mejor estructura de datos será la que menor coste computacional tenga para realizar las operaciones más frecuentes de cara a resolver el problema. El coste de almacenar en memoria todas las variables es en todos los casos bastante bajo, necesitando aproximadamente 18 bytes para representar matriz binaria $Y$ de la formulación inicial, o 30 bytes si se considera la formulación en un vector de enteros (1 byte por número, aunque en principio se puedan representar con 3 bits). En cualquier caso, este coste será de orden $O(n\\cdot m)$, ya que se necesita almacenar la matriz de asignación tomas-actores $C$.\n",
        "\n",
        "Algunas de las operaciones más relevantes que se tendrán que realizar para resolver el problema de optimización, son las relacionadas con evaluar las restricciones, y las de evaluar la función objetivo. \n",
        "En la siguiente tabla se especifica el coste de estas operaciones, y de otras relacionadas, en una comparativa con otra estructura de datos alternativa: una lista de conjuntos.\n",
        "Como el problema se trata de encontrar los $N = 5$ conjuntos de tamaño $L = 6$ tal que se minimice el coste de la grabación, hay muchas operaciones relacionadas con conjuntos, como pertenencia o el cálculo del número total de elementos, que son más eficientes con con conjuntos que con arrays.\n",
        "\n",
        "<table>\n",
        "  <tr>\n",
        "    <th rowspan=\"2\" style=\"width: 250px;\">Operación</th>\n",
        "    <th colspan=\"2\">Coste computacional</th>\n",
        "  </tr>\n",
        "  <tr>\n",
        "    <td>Para matriz Y</td>\n",
        "    <td>Para lista de conjuntos</td>\n",
        "  </tr>\n",
        "\n",
        "  <tr>\n",
        "    <td>Evaluación de la función objetivo (N veces la siguiente)</td>\n",
        "    <td>O(nmN)</td>\n",
        "    <td>O(nLN)</td>\n",
        "  </tr>\n",
        "  <tr>\n",
        "    <td>Número de actores necesarios en un día determinado</td>\n",
        "    <td>O(nm)</td>\n",
        "    <td>O(nL)</td>\n",
        "  </tr>\n",
        "  \n",
        "  <tr>\n",
        "    <td>Verificar las restricciones de la solución (N veces las siguiente + la segunda siguiente)</td>\n",
        "    <td>O(mN)</td>\n",
        "    <td>O(m + NL)</td>\n",
        "  </tr>\n",
        "  <tr>\n",
        "    <td>Número de tomas asignadas a un día determinado</td>\n",
        "    <td>O(m)</td>\n",
        "    <td>O(L)</td>\n",
        "  </tr>\n",
        "  <tr>\n",
        "    <td>Comprobar que se realizan todas las tomas</td>\n",
        "    <td>O(mN)</td>\n",
        "    <td>O(m)</td>\n",
        "  </tr>\n",
        "\n",
        "  <!-- necesaria ? -->\n",
        "  <!-- <tr> \n",
        "    <td>Determinar en qué día se hace una toma cualquiera</td>\n",
        "    <td>O(N)</td>\n",
        "    <td>O(N)</td>\n",
        "  </tr>-->\n",
        "  <tr>\n",
        "    <td>Añadir o eliminar una toma a un día concreto</td>\n",
        "    <td>O(1)</td>\n",
        "    <td>O(1)</td>\n",
        "  </tr>\n",
        "  <tr>\n",
        "    <td>Intercambiar una toma entre dos días determinados (para heurística 2-intercambios)</td>\n",
        "    <td>O(1)</td>\n",
        "    <td>O(1)</td>\n",
        "  </tr>  \n",
        "</table>\n",
        "\n",
        "Como $L << m$, la estructura de datos con lista de conjuntos es más apropiada para este problema que la matriz propuesta originalmente. Por tanto, la estructura de datos elegida para el problema es un array de $N$ conjuntos de tamaño $L$, que se define formalmente en la siguiente pregunta."
      ]
    },
    {
      "cell_type": "code",
      "execution_count": 4,
      "metadata": {
        "id": "38c-7-ejhJmA"
      },
      "outputs": [
        {
          "name": "stdout",
          "output_type": "stream",
          "text": [
            "[{0, 1, 2, 3, 4, 5}, {6, 7, 8, 9, 10, 11}, {12, 13, 14, 15, 16, 17}, {18, 19, 20, 21, 22, 23}, {24, 25, 26, 27, 28, 29}]\n"
          ]
        }
      ],
      "source": [
        "# Estructura de datos para la solución\n",
        "x: np.ndarray[set[np.uint8]] = np.array([ \n",
        "    set([ \n",
        "        np.uint8(6 * i + j) # Valores iniciales arbitarios\n",
        "        for j in range(L)\n",
        "    ])\n",
        "    for i in range(N)\n",
        "])\n",
        "\n",
        "\n",
        "def print_solucion(x: np.ndarray[set[np.uint8]], **kwargs) -> None:\n",
        "    print([\n",
        "        set([ int(x_kj) for x_kj in x_k ]) \n",
        "        for x_k in x\n",
        "    ], **kwargs)\n",
        "\n",
        "print_solucion(x)"
      ]
    },
    {
      "cell_type": "markdown",
      "metadata": {
        "id": "7Z9U2W7bi-XS"
      },
      "source": [
        "---\n",
        "---\n",
        "\n",
        "## Según el modelo para el espacio de soluciones\n",
        "\n",
        "---\n",
        "\n",
        "### (*)¿Cual es la función objetivo?\n",
        "\n",
        "La función objetivo se ha definido formalmente al principio, basada en una formulación con una matriz binaria de asignaciones tomas-dias.\n",
        "Esta función objetivo minimiza el coste total de la grabación, que de acuerdo con el enunciado del problema, es proporcional al número de dietas abonadas a los actores.\n",
        "Se les paga a todos los actores por igual, y con independencia del número de tomas que grabe ese día. \n",
        "Por tanto, debemos calcular la suma para todos los días, el número de actores que son necesarios para las grabaciones de ese día.\n",
        "\n",
        "Formalmente para la nueva formulación:\n",
        "sea $x$ el vector de conjuntos propuesto como modelo para el espacio de soluciones, donde $x_k = \\{ x_{k,1}, x_{k,2}, \\cdots x_{k,L} \\}$ es el conjunto de tomas que se graban en el día $k$.\n",
        "Entonces, la función objetivo es la siguiente:\n",
        "\n",
        "$$\n",
        "\\large\n",
        "z = \\sum_{k = 1}^N \\sum_{i = 1}^n \\mathbb{I} \\left( \\sum_{j \\in x_k} c_{ij}  > 0\\right)\n",
        "$$\n",
        "\n",
        "Donde $\\mathbb{I} \\left( \\sum_{j \\in x_k} c_{ij}  > 0\\right)$ es el indicador de si el actor $i$ trabaja en el día $k$."
      ]
    },
    {
      "cell_type": "code",
      "execution_count": 5,
      "metadata": {},
      "outputs": [
        {
          "data": {
            "text/plain": [
              "np.uint8(38)"
            ]
          },
          "execution_count": 5,
          "metadata": {},
          "output_type": "execute_result"
        }
      ],
      "source": [
        "# Funciones para calcular la función objetivo\n",
        "\n",
        "def get_actores_necesarios(tomas_a_grabar: set[np.uint8]) -> np.uint8:\n",
        "    \"\"\" \n",
        "    Devuelve el número de actores necesarios para grabar las tomas en el conjunto\n",
        "    ``tomas_a_grabar``, que corresponde a x_k en la notación de arriba.\n",
        "    El número máximo de actores por día está limitado a 10, que son todos los que \n",
        "    hay, por lo que se utiliza el tipo de dato np.uint8\n",
        "    \"\"\"\n",
        "    actores_necesarios = C[:, list(tomas_a_grabar)].sum(axis = 1, dtype = np.uint8)\n",
        "    return np.sum(actores_necesarios > 0, dtype = np.uint8)\n",
        "\n",
        "\n",
        "def get_dietas_totales(x: np.ndarray[set[np.uint8]]) -> np.uint8:\n",
        "    \"\"\" Calcula la función objetivo \"\"\"\n",
        "    actores_por_dia = np.vectorize(get_actores_necesarios)(x)\n",
        "    return np.sum(actores_por_dia, dtype = np.uint8)\n",
        "\n",
        "\n",
        "get_dietas_totales(x)"
      ]
    },
    {
      "cell_type": "markdown",
      "metadata": {},
      "source": [
        "---\n",
        "\n",
        "### (*)¿Es un problema de maximización o minimización?\n",
        "\n",
        "El problema es de minimización, ya que se busca el menor coste posible para realizar la grabación. La formulación completa del problema es la siguiente:\n",
        "\n",
        "$$\n",
        "\\large\n",
        "\\begin{aligned}\n",
        "\\min            \\quad & z = \\sum_{k = 1}^N \\sum_{i = 1}^n \\mathbb{I} \\left( \\sum_{j \\in x_k} c_{ij}  > 0\\right) \\\\\n",
        "\\text{sujeto a} \\quad & |x_k| \\leq L                                \\quad & k = 1, \\ldots, N \\quad & \\text{(límite por día de tomas)} \\\\\n",
        "                \\quad & \\left| \\bigcup_{k = 1}^{N} x_k \\right| = m  \\quad &                  \\quad & \\text{(se deben grabar todas las tomas)} \\\\\n",
        "\\end{aligned}\n",
        "$$\n",
        "\n",
        "\n",
        "Donde $|x_k|$ es el cardinal del conjunto $x_k$, es decir, el número de tomas que se graban en el día $k$"
      ]
    },
    {
      "cell_type": "code",
      "execution_count": 6,
      "metadata": {},
      "outputs": [
        {
          "data": {
            "text/plain": [
              "True"
            ]
          },
          "execution_count": 6,
          "metadata": {},
          "output_type": "execute_result"
        }
      ],
      "source": [
        "# Función para verificar restricciones\n",
        "\n",
        "def verificar_solucion(x: np.ndarray[set[np.uint8]]) -> bool: \n",
        "    \"\"\" Verifica las restricciones del problema \"\"\"\n",
        "    # Restriccion de limite máximo de tomas por día\n",
        "    tomas_por_dia = np.vectorize(len)(x)\n",
        "    limite_maximo_por_dias = all(tomas_por_dia <= L)\n",
        "\n",
        "    # Restricción de que se realicen todas las tomas\n",
        "    todas_las_tomas = set.union(*x)\n",
        "    se_realizan_todas_las_tomas = len(todas_las_tomas) == m\n",
        "\n",
        "    return se_realizan_todas_las_tomas and limite_maximo_por_dias\n",
        "\n",
        "verificar_solucion(x)"
      ]
    },
    {
      "cell_type": "markdown",
      "metadata": {
        "id": "rlnTYgY1j6I2"
      },
      "source": [
        "***\n",
        "\n",
        "### Diseña un algoritmo para resolver el problema por fuerza bruta\n",
        "\n",
        "Diseñamos un generador a partir de la clase combinations de itertools, para generar secuencialmente todas las combinaciones de soluciones posibles. A continuación del código mostramos como ejemplo las 10 primeras soluciones generadas."
      ]
    },
    {
      "cell_type": "code",
      "execution_count": 7,
      "metadata": {
        "id": "CJb5sQ0qkENy"
      },
      "outputs": [
        {
          "name": "stdout",
          "output_type": "stream",
          "text": [
            "[{0, 1, 2, 3, 4, 5}, {6, 7, 8, 9, 10, 11}, {12, 13, 14, 15, 16, 17}, {18, 19, 20, 21, 22, 23}, {24, 25, 26, 27, 28, 29}]\n",
            "[{0, 1, 2, 3, 4, 5}, {6, 7, 8, 9, 10, 11}, {12, 13, 14, 15, 16, 17}, {18, 19, 20, 21, 22, 24}, {23, 25, 26, 27, 28, 29}]\n",
            "[{0, 1, 2, 3, 4, 5}, {6, 7, 8, 9, 10, 11}, {12, 13, 14, 15, 16, 17}, {18, 19, 20, 21, 22, 25}, {23, 24, 26, 27, 28, 29}]\n",
            "[{0, 1, 2, 3, 4, 5}, {6, 7, 8, 9, 10, 11}, {12, 13, 14, 15, 16, 17}, {18, 19, 20, 21, 22, 26}, {23, 24, 25, 27, 28, 29}]\n",
            "[{0, 1, 2, 3, 4, 5}, {6, 7, 8, 9, 10, 11}, {12, 13, 14, 15, 16, 17}, {18, 19, 20, 21, 22, 27}, {23, 24, 25, 26, 28, 29}]\n",
            "[{0, 1, 2, 3, 4, 5}, {6, 7, 8, 9, 10, 11}, {12, 13, 14, 15, 16, 17}, {18, 19, 20, 21, 22, 28}, {23, 24, 25, 26, 27, 29}]\n",
            "[{0, 1, 2, 3, 4, 5}, {6, 7, 8, 9, 10, 11}, {12, 13, 14, 15, 16, 17}, {18, 19, 20, 21, 22, 29}, {23, 24, 25, 26, 27, 28}]\n",
            "[{0, 1, 2, 3, 4, 5}, {6, 7, 8, 9, 10, 11}, {12, 13, 14, 15, 16, 17}, {18, 19, 20, 21, 23, 24}, {22, 25, 26, 27, 28, 29}]\n",
            "[{0, 1, 2, 3, 4, 5}, {6, 7, 8, 9, 10, 11}, {12, 13, 14, 15, 16, 17}, {18, 19, 20, 21, 23, 25}, {22, 24, 26, 27, 28, 29}]\n",
            "[{0, 1, 2, 3, 4, 5}, {6, 7, 8, 9, 10, 11}, {12, 13, 14, 15, 16, 17}, {18, 19, 20, 21, 23, 26}, {22, 24, 25, 27, 28, 29}]\n"
          ]
        }
      ],
      "source": [
        "# Generar nuevas soluciones para fuerza bruta\n",
        "from itertools import combinations\n",
        "\n",
        "def generar_conjunto(i, x: np.ndarray[set[np.uint8]]):\n",
        "    usados = set.union(*x)\n",
        "    disponibles = TOMAS.difference(usados)\n",
        "\n",
        "    if i == 1:\n",
        "        x[N - i] = set(disponibles)\n",
        "        yield x\n",
        "        return\n",
        "    \n",
        "    for grupo in combinations(disponibles, L):\n",
        "        x[N - i] = set(grupo)\n",
        "        yield from generar_conjunto(i - 1, x.copy())\n",
        "\n",
        "\n",
        "# Ejemplos de las 10 primeras soluciones generadas\n",
        "x_vacio = np.array([ set() for _ in range(N) ])\n",
        "gen = generar_conjunto(N, x_vacio)\n",
        "\n",
        "for _ in range(10):\n",
        "    print_solucion(next(gen))"
      ]
    },
    {
      "cell_type": "markdown",
      "metadata": {},
      "source": [
        "Utilizamos una barra de progreso del paquete tqdm, para visualizar el progreso del algoritmo, y para que calcule una estimación del tiempo necesario."
      ]
    },
    {
      "cell_type": "code",
      "execution_count": 8,
      "metadata": {},
      "outputs": [
        {
          "name": "stdout",
          "output_type": "stream",
          "text": [
            "  0%|                                | 1.00M/11.4P [01:14<237180676:22:20, 13.4kit/s, Mejor sol: 32]\n",
            "\n",
            "Y seguiría hasta el infinito ...\n",
            "Mejor valor objetivo encontrado en 1_000_000 de búsquedas: 32\n",
            "Mejor solución: x = [{0, 1, 2, 3, 4, 5}, {6, 7, 8, 9, 10, 11}, {12, 13, 16, 17, 19, 26}, {14, 15, 21, 24, 27, 29}, {18, 20, 22, 23, 25, 28}]\n"
          ]
        }
      ],
      "source": [
        "from tqdm import tqdm\n",
        "import sys\n",
        "\n",
        "\n",
        "def fuerza_bruta(barra = True) -> None:\n",
        "    # Barra de progreso para fuerza bruta\n",
        "    iteraciones_totales = math.factorial(m) / (math.factorial(N) * math.factorial(L) ** N)\n",
        "    if barra:        \n",
        "        barra_de_progreso = tqdm(\n",
        "            total = int(iteraciones_totales),\n",
        "            file = sys.stdout, \n",
        "            ncols = 100,\n",
        "            unit_scale = True,\n",
        "            mininterval = 0.5\n",
        "        )\n",
        "\n",
        "    mejor_x = None\n",
        "    mejor_z = 1e6\n",
        "\n",
        "    x_vacio = np.array([ set() for _ in range(N) ])\n",
        "    gen = generar_conjunto(N, x_vacio)\n",
        "\n",
        "    # El bucle for va explorando secuencialmente todas las posibles soluciones\n",
        "    for i, x in enumerate(gen):\n",
        "\n",
        "        # Guardar la mejor solución vista hasta el momento\n",
        "        z = get_dietas_totales(x)\n",
        "        if z < mejor_z:\n",
        "            mejor_x, mejor_z = x, z\n",
        "            if barra:\n",
        "                barra_de_progreso.set_postfix_str(f\"Mejor sol: {mejor_z}\")\n",
        "        if barra:\n",
        "            barra_de_progreso.update(1)\n",
        "\n",
        "        # Detener la búsqueda después de 1 millón de soluciones\n",
        "        if i >= 1e6 and iteraciones_totales > 1e12:\n",
        "            if barra:\n",
        "                barra_de_progreso.close()\n",
        "            print(\"\")\n",
        "            print(\"Y seguiría hasta el infinito ...\")\n",
        "            print(f\"Mejor valor objetivo encontrado en {i:_} de búsquedas: {mejor_z}\")\n",
        "            print(\"Mejor solución: x = \", end = \"\")\n",
        "            print_solucion(mejor_x)\n",
        "            break\n",
        "    \n",
        "    return mejor_x, mejor_z\n",
        "        \n",
        "x, z = fuerza_bruta()"
      ]
    },
    {
      "cell_type": "markdown",
      "metadata": {
        "id": "tgrnsC2nkFa8"
      },
      "source": [
        "Según la estimación de tqdm, este algoritmo tardaría en finalizar más de 200 millones de horas, cantidad que equivale aproximadamente a 230 siglos.\n",
        "\n",
        "<br><br>\n",
        "\n",
        "---\n",
        "\n",
        "### Calcula la complejidad del algoritmo por fuerza bruta\n",
        "\n",
        "El coste computacional de este algoritmo se puede calcular a partir del número combinatorio calculado en la segunda pregunta, que era el siguiente: $ \\frac{30!}{(6!)^5 \\cdot 5!} $. \n",
        "Este número nos da la cantidad de iteraciones que hará el algoritmo.\n",
        "Generalizando esta expresión, obtenemos:\n",
        "\n",
        "$$\n",
        "\\large \\frac{m!}{(L!)^N \\cdot N!}\n",
        "$$\n",
        "\n",
        "Donde $N = \\left\\lceil \\frac{m}{L} \\right\\rceil$. \n",
        "Además, en cada iteración este algoritmo evalúa la función objetivo, que tiene un coste de $O(nLN)$, como se ha calculado en la tercera pregunta.\n",
        "Por tanto, el coste computacional del algoritmo por fuerza bruta, llamémoslo $T(n, m, L)$, es:\n",
        "\n",
        "$$\n",
        "\\large T(n, m, L) = O \\left( \\frac{m!}{(L!)^N \\cdot N!} \\cdot n L N\\right)\n",
        "$$\n",
        "\n",
        "Donde:\n",
        "\n",
        " - $n$ es el número de actores\n",
        " - $m$ el número de tomas\n",
        " - $L$ el límite de tomas por día\n",
        " - $N = \\left\\lceil \\frac{m}{L} \\right\\rceil$ el número de días necesarios\n",
        "\n",
        "Con $L << m$.\n",
        "\n",
        "<br><br>"
      ]
    },
    {
      "cell_type": "markdown",
      "metadata": {
        "id": "txbrmLmskReM"
      },
      "source": [
        "***\n",
        "\n",
        "### (*) Diseña un algoritmo que mejore la complejidad del algoritmo por fuerza bruta. Argumenta porque crees que mejora el algoritmo por fuerza bruta\n",
        "\n",
        "Para resolver el problema vamos a utilizar el algoritmo metaheúristico GRASP. \n",
        "Este algoritmo es significativamente más eficiente que la fuerza bruta, ya que no explora todo el espacio de soluciones. \n",
        "En cambio, solo explora el entorno local de algunas soluciones que ya de por sí son razonables.\n",
        "Las soluciones razonables se generan con el algoritmo heurístico greedy aleatorizado.\n",
        "La diferencia de costes computacionales de ambos algoritmos se formaliza en la siguiente pregunta, calculando el órden de complejidad de GRASP.\n",
        "\n",
        "<br>\n",
        "\n",
        "Para implementar GRASP, primero creamos dos funciones para greedy aleatorizado, que se basa en una lista restringida de candidatos (RCL)."
      ]
    },
    {
      "cell_type": "code",
      "execution_count": 9,
      "metadata": {
        "id": "m1eyM21Vkabg"
      },
      "outputs": [],
      "source": [
        "# Funciones para greedy aleatorizado\n",
        "\n",
        "def calcular_criterio_greedy(x, candidato: np.uint8) -> dict[str, np.uint8]:\n",
        "    \"\"\"\n",
        "    Calcula el criterio greedy para una determinada toma candidata,\n",
        "    y una solucion parcial x. El criterio es el siguiente: \n",
        "    Que la asignación de una toma a un día aumente en lo mínimo posible\n",
        "    el número de actores necesitados    \n",
        "    \"\"\"\n",
        "    greedy = {\n",
        "        dia: get_actores_necesarios(set(x[dia]).union({ candidato })) - get_actores_necesarios(x[dia])\n",
        "        for dia in range(N)\n",
        "        if len(x[dia]) < L\n",
        "    }\n",
        "    dia, valor_greedy = min(greedy.items(), key = lambda item: item[1])\n",
        "\n",
        "    return { \"dia\": dia, \"valor_greedy\": valor_greedy }\n",
        "\n",
        "\n",
        "def greedy_aleatorizado(rcl_size = 3) -> np.ndarray[set[np.uint8]]:\n",
        "    \"\"\"\n",
        "    Devuelve una solución generada con el algoritmo de greedy aleatorizado,\n",
        "    utilizando una lista restringida de candidatos (RCL) de tamaño ´´rcl_size´´\n",
        "    \"\"\"\n",
        "    x = np.array([ set() for _ in range(N) ])\n",
        "    usados = set.union(*x)\n",
        "    candidatos = TOMAS.difference(usados)\n",
        "        \n",
        "    while len(candidatos) > 0:        \n",
        "        criterio_greedy = [\n",
        "            { \"candidato\": candidato, **calcular_criterio_greedy(x, candidato) }\n",
        "            for candidato in candidatos\n",
        "        ]\n",
        "        criterio_greedy.sort(key = lambda d: d[\"valor_greedy\"])\n",
        "        rcl = criterio_greedy[:rcl_size] if len(criterio_greedy) >= rcl_size else criterio_greedy\n",
        "        elegido = np.random.choice(rcl)\n",
        "        \n",
        "        x[elegido[\"dia\"]].add(elegido[\"candidato\"])\n",
        "\n",
        "        usados = usados.union({ elegido[\"candidato\"] })\n",
        "        candidatos = TOMAS.difference(usados)\n",
        "    return x"
      ]
    },
    {
      "cell_type": "markdown",
      "metadata": {},
      "source": [
        "Demostración del funcionamiento de la función de greedy aleatorizado, mostrando la solución greedy no aleatorizada (con tamaño de la RCL de 1), y también representando en un histograma las distribuciones para la función objetivo de las soluciones generadas variando el tamaño de la RCL:"
      ]
    },
    {
      "cell_type": "code",
      "execution_count": 10,
      "metadata": {},
      "outputs": [
        {
          "name": "stdout",
          "output_type": "stream",
          "text": [
            "[{1, 12, 15, 16, 18, 26}, {7, 8, 13, 17, 22, 23}, {3, 4, 14, 20, 27, 29}, {0, 2, 5, 6, 19, 21}, {9, 10, 11, 24, 25, 28}]\n",
            "Valor objetivo: 31\n"
          ]
        }
      ],
      "source": [
        "# Solución con greedy normal (tamaño de la RCL de 1)\n",
        "x = greedy_aleatorizado(1)\n",
        "print_solucion(x)\n",
        "print(f\"Valor objetivo: {get_dietas_totales(x)}\")"
      ]
    },
    {
      "cell_type": "code",
      "execution_count": 11,
      "metadata": {},
      "outputs": [],
      "source": [
        "import pandas as pd\n",
        "\n",
        "# Calculamos los valores objetivo para varios tamaños de la RCL,\n",
        "#       generando y evaluando 1000 soluciones con cada tamaño\n",
        "df = pd.DataFrame([\n",
        "    {\n",
        "        \"z\": get_dietas_totales(greedy_aleatorizado(rcl_size)),\n",
        "        \"Tamaño de la RCL\": rcl_size\n",
        "    }\n",
        "    for rcl_size in [2, 3, 4]\n",
        "    for repeat in range(1_000)\n",
        "])"
      ]
    },
    {
      "cell_type": "code",
      "execution_count": 12,
      "metadata": {},
      "outputs": [
        {
          "data": {
            "image/png": "[encoded data removed]",
            "text/plain": [
              "<Figure size 800x400 with 1 Axes>"
            ]
          },
          "metadata": {},
          "output_type": "display_data"
        }
      ],
      "source": [
        "import seaborn as sns\n",
        "import matplotlib.pyplot as plt\n",
        "\n",
        "# Dibujar un histograma\n",
        "plt.figure(figsize = (8, 4))\n",
        "sns.histplot(data = df, x = \"z\", hue = \"Tamaño de la RCL\", multiple = \"dodge\", shrink = 0.9, kde = True, kde_kws = { \"bw_adjust\": 1.5 })\n",
        "\n",
        "# Títulos y etiquetas\n",
        "plt.title(\n",
        "    \"Comparación de las distribuciones de coste total\\n\" +\n",
        "    \"de las soluciones generadas por greedy aleatorizado\\n\"\n",
        "    \"para varios tamaños de la RCL\"\n",
        ")\n",
        "plt.xlabel(\"Valor objetivo\")\n",
        "plt.ylabel(\"Frecuencia\")\n",
        "plt.show()"
      ]
    },
    {
      "cell_type": "markdown",
      "metadata": {},
      "source": [
        "Ahora definimos una función para mejorar una solución dada explorando su entorno local.\n",
        "El entorno es 2-intercambios.\n",
        "Se prueban todos los cambios posibles, y se elige el que más reduzca la función objetivo, repitiendo iterativamente este proceso hasta que ninguno de los intercambios mejore la solución."
      ]
    },
    {
      "cell_type": "code",
      "execution_count": 13,
      "metadata": {},
      "outputs": [],
      "source": [
        "# Funciones para búsqueda local\n",
        "\n",
        "def get_dia_toma(x, toma):\n",
        "    \"\"\" Calcula el día en el que se graba una determinada toma \"\"\"\n",
        "    return np.where(np.vectorize(lambda dia: toma in dia)(x))[0][0]\n",
        "\n",
        "\n",
        "def heuristica_2_intercambios(x, candidato: np.uint8) -> np.ndarray[np.int8]:\n",
        "    \"\"\"\n",
        "    Calcula todas las posibles mejoras de mover la toma ´´candidato´´ a\n",
        "    cualquier otro día.\n",
        "    x           -- solución actual\n",
        "    candidato   -- toma que se quiere intercambiar\n",
        "    \"\"\"\n",
        "\n",
        "    # Buscamos el día en el que se graba el candidato\n",
        "    dia_candidato = get_dia_toma(x, candidato)\n",
        "\n",
        "    # Precalculamos los costes de cada día, en np.int8 para permitir negativos\n",
        "    actores_por_dia = np.vectorize(get_actores_necesarios)(x).astype(np.int8) \n",
        "    \n",
        "\n",
        "    def intercambio(candidato: np.uint8, toma: np.uint8) -> np.int8:\n",
        "        \"\"\" Calcula la mejora de intercambiar candidato con toma \"\"\"\n",
        "        dia_toma = get_dia_toma(x, toma)\n",
        "\n",
        "        x_dia_candidato = x[dia_candidato].copy().union({ toma }).difference({ candidato })\n",
        "        x_dia_toma = x[dia_toma].copy().union({ candidato }).difference({ toma })\n",
        "\n",
        "        return get_actores_necesarios(x_dia_candidato).astype(np.int8) - actores_por_dia[dia_candidato] + \\\n",
        "            get_actores_necesarios(x_dia_toma).astype(np.int8) - actores_por_dia[dia_toma]\n",
        "      \n",
        "\n",
        "    # Calculamos las tomas con las que vamos a probar a intercambiar candidato,\n",
        "    #   que son todas con índice mayor que candidato y que no estén en su mismo\n",
        "    #   día\n",
        "    tomas_para_intercambiar = list({ toma for toma in TOMAS if toma > candidato }.difference(x[dia_candidato]))\n",
        "\n",
        "    # Calculamos las mejoras al intercambiar el candidato con todas las posibles\n",
        "    mejoras = np.zeros(m, dtype = np.int8)\n",
        "    if len(tomas_para_intercambiar) > 0:\n",
        "        mejoras[tomas_para_intercambiar] = np.vectorize(lambda toma: intercambio(candidato, toma))(tomas_para_intercambiar)\n",
        "    # print(candidato, mejoras)\n",
        "    return mejoras\n",
        "\n",
        "\n",
        "def busqueda_local_con_2_intercambios(x: np.ndarray[set[np.uint8]]) -> np.ndarray[set[np.uint8]]:\n",
        "    \"\"\"\n",
        "    Ejecuta la heurística de búsqueda local mediante 2-intercambios. Calcula todos\n",
        "    los posibles intercambios, y elige el mejor. Repite este proceso hasta que no\n",
        "    encuentra mejoras.\n",
        "    \"\"\"\n",
        "    while True:\n",
        "        # Matriz de mejoras, es una matriz diagonal superior de tamaño m x m\n",
        "        #   con algunos ceros, correspondientes a los intercambios de las\n",
        "        #   tomas en el mismo día\n",
        "        mejoras = np.stack([\n",
        "            heuristica_2_intercambios(x, np.uint8(candidato))\n",
        "            for candidato in list(TOMAS.difference({ np.uint8(29) }))\n",
        "        ])\n",
        "\n",
        "        # Mejor intercambio\n",
        "        i, j = np.unravel_index(np.argmin(mejoras), mejoras.shape)\n",
        "        if mejoras[i, j] >= 0:\n",
        "            break\n",
        "\n",
        "        dia_toma_i, dia_toma_j = get_dia_toma(x, i), get_dia_toma(x, j)\n",
        "        x[dia_toma_i] = x[dia_toma_i].difference( { i }).union({ j })\n",
        "        x[dia_toma_j] = x[dia_toma_j].difference( { j }).union({ i })\n",
        "\n",
        "    return x"
      ]
    },
    {
      "cell_type": "markdown",
      "metadata": {},
      "source": [
        "Demostración de la búsqueda local con 2-intercambios, aplicado sobre la solución greedy normal. Se ha intercambiado la toma 8 por la 20, entre el segundo y tercer día, reduciendo el coste en una unidad."
      ]
    },
    {
      "cell_type": "code",
      "execution_count": 14,
      "metadata": {},
      "outputs": [
        {
          "name": "stdout",
          "output_type": "stream",
          "text": [
            "[{1, 12, 15, 16, 18, 26}, {7, 8, 13, 17, 22, 23}, {3, 4, 14, 20, 27, 29}, {0, 2, 5, 6, 19, 21}, {9, 10, 11, 24, 25, 28}]\n",
            "Valor objetivo: 31\n",
            "\n",
            "[{1, 12, 15, 16, 18, 26}, {7, 13, 17, 20, 22, 23}, {3, 4, 8, 14, 27, 29}, {0, 2, 5, 6, 19, 21}, {9, 10, 11, 24, 25, 28}]\n",
            "Valor objetivo: 30\n"
          ]
        }
      ],
      "source": [
        "x = greedy_aleatorizado(1)\n",
        "print_solucion(x)\n",
        "print(f\"Valor objetivo: {get_dietas_totales(x)}\\n\")\n",
        "\n",
        "x = busqueda_local_con_2_intercambios(x)\n",
        "print_solucion(x)\n",
        "print(f\"Valor objetivo: {get_dietas_totales(x)}\")"
      ]
    },
    {
      "cell_type": "markdown",
      "metadata": {},
      "source": [
        "Función para GRASP, que comienza sobre una solución generada con greedy aleatorizado, y que después la mejora mediante búsqueda local. Este proceso se repite numerosas veces y se selecciona la mejor solución explorada."
      ]
    },
    {
      "cell_type": "code",
      "execution_count": 15,
      "metadata": {},
      "outputs": [],
      "source": [
        "# Función para grasp\n",
        "\n",
        "def grasp(numero_de_arranques_aleatorios = 100) -> tuple:\n",
        "    mejor_x = None\n",
        "    mejor_z = 1e6\n",
        "\n",
        "    for _ in range(numero_de_arranques_aleatorios):\n",
        "        x = greedy_aleatorizado(5)\n",
        "        x = busqueda_local_con_2_intercambios(x)\n",
        "\n",
        "        assert(verificar_solucion(x))\n",
        "\n",
        "        z = get_dietas_totales(x)\n",
        "        if z < mejor_z:\n",
        "            mejor_x, mejor_z = x, z\n",
        "    \n",
        "    return mejor_x, mejor_z"
      ]
    },
    {
      "cell_type": "markdown",
      "metadata": {},
      "source": [
        "Ejecución del algoritmo GRASP:"
      ]
    },
    {
      "cell_type": "code",
      "execution_count": 16,
      "metadata": {},
      "outputs": [
        {
          "name": "stdout",
          "output_type": "stream",
          "text": [
            "*** Mejor solución encontrada ***\n",
            "x = [{4, 8, 15, 24, 27, 29}, {13, 16, 17, 18, 22, 23}, {1, 5, 6, 12, 19, 26}, {2, 3, 10, 14, 20, 28}, {0, 7, 9, 11, 21, 25}]\n",
            "Valor objetivo z = 27\n"
          ]
        }
      ],
      "source": [
        "x, z = grasp()\n",
        "\n",
        "print(\"*** Mejor solución encontrada ***\\nx = \", end = \"\")\n",
        "print_solucion(x)\n",
        "print(f\"Valor objetivo z = {z}\")"
      ]
    },
    {
      "cell_type": "markdown",
      "metadata": {
        "id": "eGDB4K6uk1iN"
      },
      "source": [
        "<br><br>\n",
        "\n",
        "***\n",
        "\n",
        "### (*) Calcula la complejidad del algoritmo\n",
        "\n",
        "El coste computacional del algoritmo GRASP depende del número de arranques aleatorios que eligamos, más el coste de generar las soluciones greedy aleatorizadas, la búsqueda local y evaluar la función objetivo.\n",
        "Sea $r$ el número de arranques aleatorios para GRASP, $T_{greedy}(n, m, L)$ el coste de generar una solución con el algoritmo de greedy aleatorizado, $T_{busqueda}(n, m, L)$ el coste de la búsqueda local con 2-intercambios, y $T_{eval}(n,L)$ el coste de evaluar la función objetivo.\n",
        "Entonces, la complejidad computacional de GRASP es:\n",
        "\n",
        "$$\n",
        "\\large T_{grasp}(n,m,L) = r \\left( T_{greedy}(n, m, L) + T_{busqueda}(m, n, L) + T_{eval}(n,L) \\right)\n",
        "$$\n",
        "\n",
        "<br>\n",
        "\n",
        "Podemos calcular el coste del algoritmo de greedy aleatorizado, $T_{greedy}(n, m, L)$, considerando que en cada iteración añade una toma a uno de los posibles días, realizando $m$ iteraciones. \n",
        "En cada iteración, calcula $O(m)$ criterios greedy, sobre todas las tomas que todavía no se han añadido a la solución.\n",
        "Este criterio greedy tiene un coste equivalente a evaluar la función objetivo, ya que se comprueba el coste de añadir esta toma a cualquiera de los días (aunque se excluyen los días completos).\n",
        "Por tanto, $T_{greedy}(n, m, L) = O(nm^2LN)$\n",
        "\n",
        "\n",
        "Podemos calcular el coste del algoritmo de búsqueda local, $T_{busqueda}(n, m, L)$, sabiendo que realiza $O(m^2)$ operaciones para los intercambios, donde para cada una se calcula el número de actores asignados a los días implicados, una operación con coste $O(nL)$. \n",
        "Por tanto, $T_{busqueda}(n, m, L) = O(nm^2Lr_0)$, donde $r_0$ es el número de iteraciones que realiza el algoritmo de búsqueda.\n",
        "\n",
        "\n",
        "El coste de evaluar la función objetivo ya se dedujo en la tercera pregunta, que es: $T_{eval}(n,L) = O(nLN)$\n",
        "\n",
        "Resumiendo, los costes son los siguientes:\n",
        "\n",
        "$$\n",
        "T_{greedy}(n, m, L) = O(nm^2LN) \\quad \\quad \\quad\n",
        "T_{busqueda}(n, m, L) = O(nm^2Lr_0) \\quad \\quad \\quad\n",
        "T_{eval}(n,L) = O(nLN)\n",
        "$$\n",
        "\n",
        "Y por tanto el coste del algoritmo GRASP es:\n",
        "\n",
        "$$\n",
        "\\large T_{grasp}(n,m,L) = O\\left(r n m^2 L N r_0 \\right)\n",
        "$$\n",
        "\n",
        "\n",
        "<br><br>"
      ]
    },
    {
      "cell_type": "markdown",
      "metadata": {
        "id": "3M6QjTsSkmYe"
      },
      "source": [
        "***\n",
        "\n",
        "### Según el problema (y tenga sentido), diseña un juego de datos de entrada aleatorios\n",
        "\n",
        "Crear unos nuevos datos consiste básicamente en redefinir todas las constantes que hemos utilizado del problema.\n",
        "El número de actores $n$, el número de tomas $m$, y el límite de tomas por día $L$ son elecciones arbitrarias, mientras que la matriz de asignación de actores a tomas se elige aleatoriamente con la semilla *1234*."
      ]
    },
    {
      "cell_type": "code",
      "execution_count": 17,
      "metadata": {
        "id": "sJ-N2etjkyWc"
      },
      "outputs": [],
      "source": [
        "# Regeneramos todas las constantes del problema\n",
        "n, m = 30, 11\n",
        "L = 3\n",
        "N = math.ceil(m / L)\n",
        "TOMAS = set(np.arange(0, m, dtype = np.uint8))\n",
        "\n",
        "# Matriz de asignaciones actores-tomas\n",
        "np.random.seed(1234)\n",
        "C = np.random.choice([True, False], size = (n, m))"
      ]
    },
    {
      "cell_type": "markdown",
      "metadata": {
        "id": "zy5ZROmjlGo1"
      },
      "source": [
        "<br>\n",
        "\n",
        "***\n",
        "\n",
        "### Aplica el algoritmo al juego de datos generado\n",
        "\n",
        "Aplicamos todos los algoritmos que hemos diseñado para resolver el nuevo problema, que son:\n",
        "\n",
        "1. Fuerza bruta, que obtiene la solución óptima\n",
        "2. Greedy\n",
        "3. Greedy + búsqueda local\n",
        "4. GRASP"
      ]
    },
    {
      "cell_type": "code",
      "execution_count": 18,
      "metadata": {},
      "outputs": [
        {
          "name": "stdout",
          "output_type": "stream",
          "text": [
            "SOLUCIÓN ÓPTIMA CON FUERZA BRUTA    z = 90, x = [{0, 8, 9}, {1, 3, 7}, {2, 10, 6}, {4, 5}]\n",
            "SOLUCIÓN GREEDY                     z = 93, x = [{0, 8, 7}, {10, 4, 5}, {9, 2, 6}, {1, 3}]\n",
            "SOLUCIÓN GREEDY + BÚSQUEDA LOCAL    z = 92, x = [{0, 8, 9}, {10, 4, 5}, {2, 6, 7}, {1, 3}]\n",
            "SOLUCIÓN GRASP                      z = 90, x = [{0, 9, 8}, {2, 10, 6}, {1, 3, 7}, {4, 5}]\n"
          ]
        }
      ],
      "source": [
        "x, z = fuerza_bruta(barra = False)\n",
        "msg = \"SOLUCIÓN ÓPTIMA CON FUERZA BRUTA\"\n",
        "print(f\"{msg:<35} z = {z}, x = \", end = \"\")\n",
        "print_solucion(x)\n",
        "\n",
        "\n",
        "x = greedy_aleatorizado(1)\n",
        "z = get_dietas_totales(x)\n",
        "msg = \"SOLUCIÓN GREEDY\"\n",
        "print(f\"{msg:35} z = {z}, x = \", end = \"\")\n",
        "print_solucion(x)\n",
        "\n",
        "\n",
        "x = busqueda_local_con_2_intercambios(x)\n",
        "z = get_dietas_totales(x)\n",
        "msg = \"SOLUCIÓN GREEDY + BÚSQUEDA LOCAL\"\n",
        "print(f\"{msg:<35} z = {z}, x = \", end = \"\")\n",
        "print_solucion(x)\n",
        "\n",
        "\n",
        "x, z = grasp()\n",
        "msg = \"SOLUCIÓN GRASP\"\n",
        "print(f\"{msg:<35} z = {z}, x = \", end = \"\")\n",
        "print_solucion(x)"
      ]
    },
    {
      "cell_type": "markdown",
      "metadata": {
        "id": "eTFWUJQrtGcv"
      },
      "source": [
        "Como se puede apreciar, GRASP es capaz de obtener la solución óptima para este problema reducido.\n",
        "Las soluciones obtenidas por fuerza bruta, greedy, y greedy + búsqueda local son deterministas, mientras que las de GRASP son aleatorias.\n",
        "\n",
        "<br><br>\n",
        "\n",
        "***\n",
        "\n",
        "### Enumera las referencias que has utilizado (si ha sido necesario) para llevar a cabo el trabajo\n",
        "\n",
        "[1] Referencia para calcular el número de combinaciones extrayendo particiones de un conjunto: [https://math.stackexchange.com/questions/1891143/number-of-ways-to-partition-a-set-into-subsets-of-given-cardinality](https://math.stackexchange.com/questions/1891143/number-of-ways-to-partition-a-set-into-subsets-of-given-cardinality)\n",
        "\n",
        "[2] Long, X., & Zhao, J. (2020). Scheduling problem of movie scenes based on three meta-heuristic algorithms. *IEEE Access, 8, 59091-59099*. [https://ieeexplore.ieee.org/stamp/stamp.jsp?tp=&arnumber=9044871](https://ieeexplore.ieee.org/stamp/stamp.jsp?tp=&arnumber=9044871).\n",
        "\n",
        "\n",
        "<br><br>\n",
        "\n",
        "---\n",
        "\n",
        "### Describe brevemente las lineas de como crees que es posible avanzar en el estudio del problema. Ten en cuenta incluso posibles variaciones del problema y/o variaciones al alza del tamaño\n",
        "\n",
        "Según la definición del *scene scheduling problem* de [2], este problema es normalmente más complejo en la vida real.\n",
        "Entre los factores que hay que tener en cuenta son: diferentes remuneraciones de los actores, el coste de desplazamiento de una escena a otra, y diferentes duraciones de las escenas.\n",
        "Los autores del paper utilizan 3 algoritmos metaheurísticos para resolverlo, que son: búsqueda tabú, optimización por enjambre de partículas y colonias de hormigas.\n",
        "\n",
        "\n",
        "La solución presentada en este cuaderno se podría mejorar considerando estos algoritmos metaheurísticos, u otros más sencillos que requerirían menos cambios al código como simulated annealing, threshold accepting, record-to-record, etc.\n",
        "Pero profundizando en la solución con GRASP, también se podría mejorar probando otros criterios greedy distintos, u otras formas de hacer búsqueda local, como 3-intercambios.\n",
        "\n",
        "Tampoco hemos considerado métodos exactos para resolver el problema, como por ejemplo la búsqueda con ramificación y poda. Se podría al menos explorar este camino, aunque no hayamos hecho porque intiutivamente creemos que su coste sería demasiado alto.\n"
      ]
    }
  ],
  "metadata": {
    "colab": {
      "provenance": []
    },
    "kernelspec": {
      "display_name": "Python 3",
      "name": "python3"
    },
    "language_info": {
      "codemirror_mode": {
        "name": "ipython",
        "version": 3
      },
      "file_extension": ".py",
      "mimetype": "text/x-python",
      "name": "python",
      "nbconvert_exporter": "python",
      "pygments_lexer": "ipython3",
      "version": "3.13.2"
    }
  },
  "nbformat": 4,
  "nbformat_minor": 0
}
