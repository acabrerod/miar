{
  "cells": [
    {
      "cell_type": "markdown",
      "metadata": {
        "id": "hVbXYX-RfPWh"
      },
      "source": [
        "# Algoritmos de optimización - Seminario\n",
        "\n",
        "Nombre y Apellidos: Alfonso Cabrero de Diego<br>\n",
        "\n",
        "Url: [Enlace a GitHub](https://github.com/acabrerod/miar/blob/main/03_miar_optimization_algorithms/final_project/03MIAR_scene_scheduling_problem.ipynb)<br>\n",
        "\n",
        "Problema: *SESIONES DE DOBLAJE*\n",
        "\n",
        "\n",
        "## Descripción del problema\n",
        "\n",
        "Se precisa coordinar el doblaje de una película. Los actores del doblaje deben coincidir en las tomas en las que sus personajes aparecen juntos en las diferentes tomas. Los actores de doblaje cobran todos la misma cantidad por cada día que deben desplazarse hasta el estudio de grabación independientemente del número de tomas que se graben. No es posible grabar más de 6 tomas por día. El objetivo es planificar las sesiones por día de manera que el gasto por los servicios de los actores de doblaje sea el menor posible. Los datos son:\n",
        "\n",
        "- Número de actores: $n = 10$\n",
        "- Número de tomas : $m  = 30$\n",
        "- Matriz de asignacion de actores a tomas : [https://bit.ly/36D8IuK](https://bit.ly/36D8IuK)\n",
        "\n",
        "\n",
        "## Formulación del problema\n",
        "\n",
        "El *scene scheduling problem* descrito arriba, puede formularse como el siguiente problema de programación lineal entera:\n",
        "\n",
        "$$\n",
        "\\begin{aligned}\n",
        "\\min \\quad & \\{\\text{coste de rodaje}\\} \\\\\n",
        "\\text{sujeto a} \\quad & \\text{Número de tomas por día} \\leq  6 \\\\\n",
        "\\end{aligned}\n",
        "$$\n",
        "\n",
        "Para su formulación, se definen las siguientes variables:\n",
        "\n",
        "Sea $N \\geq \\left\\lceil \\frac{m}{6} \\right\\rceil$ el número de días para grabar todas las tomas.\n",
        "\n",
        "Sea $c_{ij} \\in \\{0, 1\\} =$ una constante que indica si el actor $i$ participa en la toma $j$ ;  $i = 1, \\ldots n, j = 1, \\ldots, m$\n",
        "\n",
        "Entonces la matriz $C = \\{ c_{ij} \\}_{\\substack{i=1,\\ldots,n \\\\ j=1,\\ldots,m}} \\in \\mathcal{M}_{m \\times n}$ es la matriz de asignaciones de actores a tomas, definida de la siguiente manera:\n",
        "\n",
        "$$\n",
        "C = \\overbrace{\n",
        "\\begin{bmatrix}\n",
        "1 & 1 & 1 & 1 & 1 & 0 & 0 & 0 & 0 & 0 \\\\\n",
        "0 & 0 & 1 & 1 & 1 & 0 & 0 & 0 & 0 & 0 \\\\\n",
        "0 & 1 & 0 & 0 & 1 & 0 & 1 & 0 & 0 & 0 \\\\\n",
        "1 & 1 & 0 & 0 & 0 & 0 & 1 & 1 & 0 & 0 \\\\\n",
        "0 & 1 & 0 & 1 & 0 & 0 & 0 & 1 & 0 & 0 \\\\\n",
        "1 & 1 & 0 & 1 & 1 & 0 & 0 & 0 & 0 & 0 \\\\\n",
        "1 & 1 & 0 & 1 & 1 & 0 & 0 & 0 & 0 & 0 \\\\\n",
        "1 & 1 & 0 & 0 & 0 & 1 & 0 & 0 & 0 & 0 \\\\\n",
        "1 & 1 & 0 & 1 & 0 & 0 & 0 & 0 & 0 & 0 \\\\\n",
        "1 & 1 & 0 & 0 & 0 & 1 & 0 & 0 & 1 & 0 \\\\\n",
        "1 & 1 & 1 & 0 & 1 & 0 & 0 & 1 & 0 & 0 \\\\\n",
        "1 & 1 & 1 & 1 & 0 & 1 & 0 & 0 & 0 & 0 \\\\\n",
        "1 & 0 & 0 & 1 & 1 & 0 & 0 & 0 & 0 & 0 \\\\\n",
        "1 & 0 & 1 & 0 & 0 & 1 & 0 & 0 & 0 & 0 \\\\\n",
        "1 & 1 & 0 & 0 & 0 & 0 & 1 & 0 & 0 & 0 \\\\\n",
        "0 & 0 & 0 & 1 & 0 & 0 & 0 & 0 & 0 & 1 \\\\\n",
        "1 & 0 & 1 & 0 & 0 & 0 & 0 & 0 & 0 & 0 \\\\\n",
        "0 & 0 & 1 & 0 & 0 & 1 & 0 & 0 & 0 & 0 \\\\\n",
        "1 & 0 & 1 & 0 & 0 & 0 & 0 & 0 & 0 & 0 \\\\\n",
        "1 & 0 & 1 & 1 & 1 & 0 & 0 & 0 & 0 & 0 \\\\\n",
        "0 & 0 & 0 & 0 & 0 & 1 & 0 & 1 & 0 & 0 \\\\\n",
        "1 & 1 & 1 & 1 & 0 & 0 & 0 & 0 & 0 & 0 \\\\\n",
        "1 & 0 & 1 & 0 & 0 & 0 & 0 & 0 & 0 & 0 \\\\\n",
        "0 & 0 & 1 & 0 & 0 & 1 & 0 & 0 & 0 & 0 \\\\\n",
        "1 & 1 & 0 & 1 & 0 & 0 & 0 & 0 & 0 & 1 \\\\\n",
        "1 & 0 & 1 & 0 & 1 & 0 & 0 & 0 & 1 & 0 \\\\\n",
        "0 & 0 & 0 & 1 & 1 & 0 & 0 & 0 & 0 & 0 \\\\\n",
        "1 & 0 & 0 & 1 & 0 & 0 & 0 & 0 & 0 & 0 \\\\\n",
        "1 & 0 & 0 & 0 & 1 & 1 & 0 & 0 & 0 & 0 \\\\\n",
        "1 & 0 & 0 & 1 & 0 & 0 & 0 & 0 & 0 & 0 \\\\\n",
        "\\end{bmatrix}\n",
        "}^{\\text{Actores del 1 al 10}}\n",
        "$$\n",
        "\n",
        "Sea $y_{jk} \\in \\{0, 1\\} = $ una variable binaria que indica si se graba la toma $j$ en el día $k$\n",
        "\n",
        "Sea $w_k = \\sum_{i = 1}^n \\sum_{j = 1}^m c_{ij} y_{jk}$ el número de actores necesitos el día $k$\n",
        "\n",
        "\n",
        "Entonces, el problema se puede formular matemáticamente minimizando la suma de $w_k$, es decir, las dietas de los actores:\n",
        "\n",
        "$$\n",
        "\\begin{aligned}\n",
        "\\min \\quad & \\sum_{k = 1}^N w_k = \\sum_{k = 1}^N \\sum_{i = 1}^n \\sum_{j = 1}^m c_{ij} y_{jk} \\\\\n",
        "\\text{sujeto a} \\quad & \\sum_{j = 1}^m y_{jk} \\leq 6 \\quad & k = 1, \\ldots, N \\quad & \\text{(límite por día de tomas)} \\\\\n",
        "\\quad & \\sum_{k = 1}^N y_{jk} = 1 \\quad & j = 1, \\ldots, m \\quad & \\text{(se deben grabar todas las tomas)} \\\\\n",
        "\\quad & y_{jk} \\in \\{0, 1\\} & \\quad j = 1, \\ldots, m ; k = 1, \\ldots, N \\quad & \\text{(variables binarias)} \\\\\n",
        "\\end{aligned}\n",
        "$$\n",
        "\n",
        "El principal problema es que $N$ es desconocido a priori, por lo que las dimensiones de la matriz $Y = \\{ y_{jk} \\}$ también son indeterminadas. \n",
        "No obstante, podemos pensar que el coste mínimo para el rodaje se alcanzará con el número de días lo más reducido posible, lo que permite concentrar y optimizar al máximo los días de trabajo de los actores.\n",
        "Por tanto, aumentar el número disponible de días de rodaje no es capaz per se de reducir el coste total, si bien no lo aumenta. Definiremos por tanto la constante $N = \\left\\lceil \\frac{m}{6} \\right\\rceil = 5$.\n"
      ]
    },
    {
      "cell_type": "code",
      "execution_count": null,
      "metadata": {},
      "outputs": [],
      "source": [
        "import numpy as np"
      ]
    },
    {
      "cell_type": "code",
      "execution_count": null,
      "metadata": {
        "id": "AiskKkzZfy4e"
      },
      "outputs": [],
      "source": [
        "n, m = 10, 30   # Número de actores y número de tomas\n",
        "N = 5           # Número de días disponibles\n",
        "\n",
        "C = np.array([  # Matriz de asignaciones actores-tomas\n",
        "    [1,1,1,1,1,0,0,0,0,0],\n",
        "    [0,0,1,1,1,0,0,0,0,0],\n",
        "    [0,1,0,0,1,0,1,0,0,0],\n",
        "    [1,1,0,0,0,0,1,1,0,0],\n",
        "    [0,1,0,1,0,0,0,1,0,0],\n",
        "    [1,1,0,1,1,0,0,0,0,0],\n",
        "    [1,1,0,1,1,0,0,0,0,0],\n",
        "    [1,1,0,0,0,1,0,0,0,0],\n",
        "    [1,1,0,1,0,0,0,0,0,0],\n",
        "    [1,1,0,0,0,1,0,0,1,0],\n",
        "    [1,1,1,0,1,0,0,1,0,0],\n",
        "    [1,1,1,1,0,1,0,0,0,0],\n",
        "    [1,0,0,1,1,0,0,0,0,0],\n",
        "    [1,0,1,0,0,1,0,0,0,0],\n",
        "    [1,1,0,0,0,0,1,0,0,0],\n",
        "    [0,0,0,1,0,0,0,0,0,1],\n",
        "    [1,0,1,0,0,0,0,0,0,0],\n",
        "    [0,0,1,0,0,1,0,0,0,0],\n",
        "    [1,0,1,0,0,0,0,0,0,0],\n",
        "    [1,0,1,1,1,0,0,0,0,0],\n",
        "    [0,0,0,0,0,1,0,1,0,0],\n",
        "    [1,1,1,1,0,0,0,0,0,0],\n",
        "    [1,0,1,0,0,0,0,0,0,0],\n",
        "    [0,0,1,0,0,1,0,0,0,0],\n",
        "    [1,1,0,1,0,0,0,0,0,1],\n",
        "    [1,0,1,0,1,0,0,0,1,0],\n",
        "    [0,0,0,1,1,0,0,0,0,0],\n",
        "    [1,0,0,1,0,0,0,0,0,0],\n",
        "    [1,0,0,0,1,1,0,0,0,0],\n",
        "    [1,0,0,1,0,0,0,0,0,0],\n",
        "])\n",
        "\n",
        "# Matriz de asignaciones tomas-dias:\n",
        "#       Cada toma se debe realizar en algún día, y no se pueden\n",
        "#       realizar más de 6 tomas en un mismo día\n",
        "Y = np.zeros((m, N), dtype = bool)"
      ]
    },
    {
      "cell_type": "markdown",
      "metadata": {
        "id": "3_-exlrTgLd-"
      },
      "source": [
        "### (*) ¿Cuántas posibilidades hay sin tener en cuenta las restricciones?\n",
        "\n",
        "Partiendo de la formulación, es evidente que todas las posibles soluciones del problema parten de todas las posibles combinaciones de la matriz $Y$. \n",
        "Si no se tienen en cuenta las restricciones, es decir, que todas las tomas de realizen siempre y en un único día, y que solo se puedan grabar un máximo de 6 por día, todas las combinaciones posibles serían las siguientes:\n",
        "\n",
        "$2^{m \\cdot N}$ <!-- 2^{30 \\cdot N} = 2^{150} \\approx 1,427 \\times 10^{45} -->\n",
        "\n",
        "Ya que se trata una matriz binaria de $m \\cdot N$ entradas.\n",
        "El número concreto depende del número de días de grabación. \n",
        "Al no estar limitado a 6 grabaciones por día, el valor óptimo sería $N=1$, con $1.074 \\times 10^9$  posibilidades. \n",
        "Aunque algunos otros valores posibles serían los siguientes:\n",
        "\n",
        "| N | $N = 1$               | $N = 2$               | $N = 3$               | $N = 4$               | $N = 5$               | $N = 6$             | ... |\n",
        "|------------------|----------------------|----------------------|----------------------|----------------------|----------------------|----------------------|-----|\n",
        "| $2^{30 \\cdot N}$| $1.074 \\times 10^9$ | $1.153 \\times 10^{18}$ | $1.238 \\times 10^{27}$ | $1.329 \\times 10^{36}$ | $1.427 \\times 10^{45}$ | $1.532 \\times 10^{54}$ | ... |\n",
        "\n",
        "Esta formulación no tiene en cuenta la restricción de que se deban realizar todas las tomas, por lo que todas las posiblidades reflejan todas las posibles combinaciones de tomas, ya sea no realizando ninguna (con todos los valores de $Y$ iguales a $0$), o realizando todas (todos los valores de $Y$ iguales a $1$, si $N>1$, se realizan todas las tomas todos los días), además de todas las posibilidades intermedias.\n",
        "\n",
        "\n",
        "<br>\n",
        "\n",
        "Sin embargo, otra formulación natural se puede realizar con un vector de enteros de $m$ entradas, donde cada una de las posiciones contiene un número entero entre $1$ y $N$. \n",
        "Esta formulación incluye de forma automática la restricción de que todas las tomas se deben realizar en un solo día, aunque sigue sin considerar el límite de 6 tomas por cada día. \n",
        "Con esta formulación, el número de posibilidades se reduce por varios órdenes de magnitud, que serían las siguientes:\n",
        "\n",
        "$N^m$ <!-- = 5^{30} \\approx 9,313 \\times 10^{20} -->\n",
        "\n",
        "Ya que se trata de un vector de $m$ entradas, donde cada uno puede variar entre $N$ números enteros. \n",
        "El valor óptimo sin restricciones es lógicamente $N=1$, donde solo hay una posible combinación (se realizan todas las tomas), otros valores para $N$ son los siguientes:\n",
        "\n",
        "| N | $N = 1$               | $N = 2$               | $N = 3$               | $N = 4$               | $N = 5$               | $N = 6$             | ... |\n",
        "|------------------|----------------------|----------------------|----------------------|----------------------|----------------------|----------------------|-----|\n",
        "| $N^{30}$| $1$ | $1.074 \\times 10^9$ | $2.059 \\times 10^{14}$ | $1.153 \\times 10^{18}$ | $9.313 \\times 10^{20}$ | $2.211 \\times 10^{23}$ | ... |\n",
        "\n",
        "\n",
        "<br><br>\n",
        "\n",
        "---\n",
        "\n",
        "### ¿Cuántas posibilidades hay teniendo en cuenta todas las restricciones?\n",
        "\n",
        "Para considerar adicionalmente todas las restricciones, podíamos pensar en añadir a la segunda formulación, la del vector de enteros, la condición de que $N \\geq \\left\\lceil \\frac{m}{6} \\right\\rceil$.\n",
        "Tomando además $N=5$, ya que como se ha explicado, el número de días $N$ que minimiza el coste de la grabación será el más bajo posible, es decir, 5.\n",
        "Sin embargo, esta condición no es suficiente, ya que podía darse el caso de que todas las tomas se concentrasen en un mismo día, sin cumplir con la restricción.\n",
        "\n",
        "Para resolverlo, podemos pensar en crear 5 particiones de las 30 tomas, con 6 tomas cada una. \n",
        "Esto se parece al número combinatorio para extraer subconjuntos no ordenados de tamaño $k$ de un conjunto de tamaño $n$: $\\binom{n}{k}$.\n",
        "La diferencia en este caso es que tenemos que extraer 5 subconjuntos diferentes, y que sean además disjuntos entre sí.\n",
        "Podemos llegar a este cálculo a través del razonamiento visto en la referencia [1], inspirado en un muestreo sin reemplazamiento.\n",
        "\n",
        "Hay $ \\binom{30}{6} $ formas de elegir la primera partición (las tomas que se realizan el primer día), después hay $ \\binom{24}{6} $ formas de elegir las tomas que se realizan el segundo día entre las 24 tomas restantes que no se han grabado, etc ... El número total de combinaciones es el siguiente:\n",
        "\n",
        "$ \\binom{30}{6} \\cdot \\binom{24}{6} \\cdot \\binom{18}{6} \\cdot \\binom{12}{6} \\cdot \\binom{6}{6}= \\frac{30!}{(6!)^5}$\n",
        "\n",
        "Como además el orden de estos grupos no es relevante, podemos dividirlo por $5!$, obteniendo:\n",
        "\n",
        "$ \\frac{30!}{(6!)^5 \\cdot 5!} \\approx 1.142 \\times 10^{16}$\n",
        "\n",
        "Podemos leer este número como 11 mil 420 billones de combinaciones."
      ]
    },
    {
      "cell_type": "code",
      "execution_count": 60,
      "metadata": {},
      "outputs": [
        {
          "name": "stdout",
          "output_type": "stream",
          "text": [
            "Número de combinaciones con formulación de matriz binaria (depende del número de días):\n",
            "\tN = 1           N = 2           N = 3           N = 4           N = 5           N = 6           \n",
            "\t1.074e+09       1.153e+18       1.238e+27       1.329e+36       1.427e+45       1.532e+54       \n",
            "\n",
            "Número de combinaciones con formulación de vector de enteros (depende del número de días):\n",
            "\tN = 1           N = 2           N = 3           N = 4           N = 5           N = 6           \n",
            "\t1.000e+00       1.074e+09       2.059e+14       1.153e+18       9.313e+20       2.211e+23       \n",
            "\n",
            "Número de combinaciones con restricciones: 11_423_951_396_577_720 (1.142e+16)\n"
          ]
        }
      ],
      "source": [
        "print(f\"Número de combinaciones con formulación de matriz binaria (depende del número de días):\")\n",
        "print(f\"\\t{\"\".join([f'N = {i :<12}' for i in range(1, 7)])}\")\n",
        "print(f\"\\t{\"\".join([f'{2 ** (30 * i):<16.3e}' for i in range(1, 7)])}\\n\")\n",
        "\n",
        "print(f\"Número de combinaciones con formulación de vector de enteros (depende del número de días):\")\n",
        "print(f\"\\t{\"\".join([f'N = {i :<12}' for i in range(1, 7)])}\")\n",
        "print(f\"\\t{\"\".join([f'{i ** 30:<16.3e}' for i in range(1, 7)])}\\n\")\n",
        "\n",
        "\n",
        "import math \n",
        "combinations_with_restrictions = math.factorial(30) / (math.factorial(5) * math.factorial(6) ** 5)\n",
        "print(f\"Número de combinaciones con restricciones: {int(combinations_with_restrictions):_} ({combinations_with_restrictions:.3e})\")"
      ]
    },
    {
      "cell_type": "markdown",
      "metadata": {
        "id": "dzynfVJahHoY"
      },
      "source": [
        "### Modelo para el espacio de soluciones\n",
        "\n",
        "### (*) ¿Cuál es la estructura de datos que mejor se adapta al problema? Argumentalo (es posible que hayas elegido una al principio y veas la necesidad de cambiar, argumentalo).\n"
      ]
    },
    {
      "cell_type": "markdown",
      "metadata": {
        "id": "xFIJrOwKi2Ti"
      },
      "source": [
        "Respuesta"
      ]
    },
    {
      "cell_type": "code",
      "execution_count": null,
      "metadata": {
        "id": "38c-7-ejhJmA"
      },
      "outputs": [],
      "source": []
    },
    {
      "cell_type": "markdown",
      "metadata": {
        "id": "7Z9U2W7bi-XS"
      },
      "source": [
        "Según el modelo para el espacio de soluciones<br>\n",
        "(*)¿Cual es la función objetivo?\n",
        "\n",
        "(*)¿Es un problema de maximización o minimización?"
      ]
    },
    {
      "cell_type": "markdown",
      "metadata": {
        "id": "hBalWLM7j1_d"
      },
      "source": [
        "Respuesta"
      ]
    },
    {
      "cell_type": "code",
      "execution_count": null,
      "metadata": {
        "id": "pDA-rg3Gj5Lz"
      },
      "outputs": [],
      "source": []
    },
    {
      "cell_type": "markdown",
      "metadata": {
        "id": "rlnTYgY1j6I2"
      },
      "source": [
        "Diseña un algoritmo para resolver el problema por fuerza bruta"
      ]
    },
    {
      "cell_type": "markdown",
      "metadata": {
        "id": "70rDgxYXkC8r"
      },
      "source": [
        "Respuesta"
      ]
    },
    {
      "cell_type": "code",
      "execution_count": null,
      "metadata": {
        "id": "CJb5sQ0qkENy"
      },
      "outputs": [],
      "source": []
    },
    {
      "cell_type": "markdown",
      "metadata": {
        "id": "tgrnsC2nkFa8"
      },
      "source": [
        "Calcula la complejidad del algoritmo por fuerza bruta"
      ]
    },
    {
      "cell_type": "markdown",
      "metadata": {
        "id": "9eUd3xwckP68"
      },
      "source": [
        "Respuesta"
      ]
    },
    {
      "cell_type": "code",
      "execution_count": null,
      "metadata": {
        "id": "rvZWwL-ckRST"
      },
      "outputs": [],
      "source": []
    },
    {
      "cell_type": "markdown",
      "metadata": {
        "id": "txbrmLmskReM"
      },
      "source": [
        "(*)Diseña un algoritmo que mejore la complejidad del algortimo por fuerza bruta. Argumenta porque crees que mejora el algoritmo por fuerza bruta"
      ]
    },
    {
      "cell_type": "markdown",
      "metadata": {
        "id": "hLrVwt5QkZPD"
      },
      "source": [
        "Respuesta"
      ]
    },
    {
      "cell_type": "code",
      "execution_count": null,
      "metadata": {
        "id": "m1eyM21Vkabg"
      },
      "outputs": [],
      "source": []
    },
    {
      "cell_type": "markdown",
      "metadata": {
        "id": "eGDB4K6uk1iN"
      },
      "source": [
        "(*)Calcula la complejidad del algoritmo"
      ]
    },
    {
      "cell_type": "markdown",
      "metadata": {
        "id": "NhpTh_BPk1ms"
      },
      "source": [
        "Respuesta"
      ]
    },
    {
      "cell_type": "code",
      "execution_count": null,
      "metadata": {
        "id": "nREzhkStlCq8"
      },
      "outputs": [],
      "source": []
    },
    {
      "cell_type": "markdown",
      "metadata": {
        "id": "3M6QjTsSkmYe"
      },
      "source": [
        "Según el problema (y tenga sentido), diseña un juego de datos de entrada aleatorios"
      ]
    },
    {
      "cell_type": "markdown",
      "metadata": {
        "id": "Jc3_OlyNkvjZ"
      },
      "source": [
        "Respuesta"
      ]
    },
    {
      "cell_type": "code",
      "execution_count": null,
      "metadata": {
        "id": "sJ-N2etjkyWc"
      },
      "outputs": [],
      "source": []
    },
    {
      "cell_type": "markdown",
      "metadata": {
        "id": "zy5ZROmjlGo1"
      },
      "source": [
        "Aplica el algoritmo al juego de datos generado"
      ]
    },
    {
      "cell_type": "markdown",
      "metadata": {
        "id": "_Cmj-PVylMsa"
      },
      "source": [
        "Respuesta"
      ]
    },
    {
      "cell_type": "code",
      "execution_count": null,
      "metadata": {
        "id": "Jkx8GeiYlUz1"
      },
      "outputs": [],
      "source": []
    },
    {
      "cell_type": "markdown",
      "metadata": {
        "id": "eTFWUJQrtGcv"
      },
      "source": [
        "### Enumera las referencias que has utilizado(si ha sido necesario) para llevar a cabo el trabajo\n",
        "\n",
        "[1] Referencia para calcular el número de combinaciones para extraer particiones de un conjunto: [https://math.stackexchange.com/questions/1891143/number-of-ways-to-partition-a-set-into-subsets-of-given-cardinality](https://math.stackexchange.com/questions/1891143/number-of-ways-to-partition-a-set-into-subsets-of-given-cardinality)"
      ]
    },
    {
      "cell_type": "markdown",
      "metadata": {
        "id": "YKQ_mRBttWsP"
      },
      "source": [
        "Respuesta"
      ]
    },
    {
      "cell_type": "markdown",
      "metadata": {
        "id": "kAkDPUyRtYyH"
      },
      "source": [
        "Describe brevemente las lineas de como crees que es posible avanzar en el estudio del problema. Ten en cuenta incluso posibles variaciones del problema y/o variaciones al alza del tamaño"
      ]
    },
    {
      "cell_type": "markdown",
      "metadata": {
        "id": "IE0uZmo-tZu-"
      },
      "source": [
        "Respuesta"
      ]
    }
  ],
  "metadata": {
    "colab": {
      "provenance": []
    },
    "kernelspec": {
      "display_name": "Python 3",
      "name": "python3"
    },
    "language_info": {
      "codemirror_mode": {
        "name": "ipython",
        "version": 3
      },
      "file_extension": ".py",
      "mimetype": "text/x-python",
      "name": "python",
      "nbconvert_exporter": "python",
      "pygments_lexer": "ipython3",
      "version": "3.13.2"
    }
  },
  "nbformat": 4,
  "nbformat_minor": 0
}
