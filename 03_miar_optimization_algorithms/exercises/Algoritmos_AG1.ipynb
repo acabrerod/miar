{
  "cells": [
    {
      "cell_type": "markdown",
      "metadata": {
        "id": "kQn6fbhgtH9I"
      },
      "source": [
        "# Algoritmos - Actividad Guiada 1\n",
        "\n",
        "Nombre: Alfonso Cabrero de Diego<br>\n",
        "URL: [https://drive.google.com/file/d/1ag6BM78YMXTLs4PkQQcJq8HDLkz8KXu8/view?usp=sharing](https://drive.google.com/file/d/1ag6BM78YMXTLs4PkQQcJq8HDLkz8KXu8/view?usp=sharing)\n",
        "\n",
        "[https://github.com/acabrerod/miar/tree/main/03_miar_optimization_algorithms/exercises/Algoritmos_AG1.ipynb]()\n"
      ]
    },
    {
      "cell_type": "markdown",
      "metadata": {
        "id": "_t62Ge7ZuKnC"
      },
      "source": [
        "## Torres de Hanoi con divide y vencerás"
      ]
    },
    {
      "cell_type": "code",
      "execution_count": 62,
      "metadata": {
        "colab": {
          "base_uri": "https://localhost:8080/"
        },
        "id": "i32G0CUQvauE",
        "outputId": "42164ff1-dcbf-4078-d08f-e0152d82ed18"
      },
      "outputs": [
        {
          "name": "stdout",
          "output_type": "stream",
          "text": [
            "Lleva la ficha  1  hasta  2\n",
            "Lleva la ficha  1  hasta  3\n",
            "Lleva la ficha  2  hasta  3\n",
            "Lleva la ficha  1  hasta  2\n",
            "Lleva la ficha  3  hasta  1\n",
            "Lleva la ficha  3  hasta  2\n",
            "Lleva la ficha  1  hasta  2\n",
            "Lleva la ficha  1  hasta  3\n",
            "Lleva la ficha  2  hasta  3\n",
            "Lleva la ficha  2  hasta  1\n",
            "Lleva la ficha  3  hasta  1\n",
            "Lleva la ficha  2  hasta  3\n",
            "Lleva la ficha  1  hasta  2\n",
            "Lleva la ficha  1  hasta  3\n",
            "Lleva la ficha  2  hasta  3\n"
          ]
        }
      ],
      "source": [
        "def torres_hanoi(n, desde, hasta):\n",
        "  if n == 1:\n",
        "    print(\"Lleva la ficha \", desde, \" hasta \", hasta)\n",
        "  else:\n",
        "    torres_hanoi(n - 1, desde, 6 - desde - hasta)\n",
        "    print(\"Lleva la ficha \", desde , \" hasta \", hasta)\n",
        "    torres_hanoi(n - 1, 6 - desde - hasta, hasta)\n",
        "\n",
        "\n",
        "torres_hanoi(4, 1, 3)"
      ]
    },
    {
      "cell_type": "code",
      "execution_count": 63,
      "metadata": {
        "colab": {
          "base_uri": "https://localhost:8080/"
        },
        "id": "74qZZAekiNYR",
        "outputId": "b635b3de-83f0-4bbf-a7a4-3ba7de045531"
      },
      "outputs": [
        {
          "data": {
            "text/plain": [
              "8"
            ]
          },
          "execution_count": 63,
          "metadata": {},
          "output_type": "execute_result"
        }
      ],
      "source": [
        "# Sucesión_de_Fibonacci\n",
        "# https://es.wikipedia.org/wiki/Sucesi%C3%B3n_de_Fibonacci\n",
        "# Calculo del termino n-ésimo de la suscesión de Fibonacci\n",
        "def fibonacci(n: int) -> int:\n",
        "  if n < 2:\n",
        "    return 1\n",
        "  else:\n",
        "    return fibonacci(n - 1) + fibonacci(n - 2)\n",
        "\n",
        "fibonacci(5)"
      ]
    },
    {
      "cell_type": "markdown",
      "metadata": {
        "id": "RgT5XJsZ429L"
      },
      "source": [
        "## Devolución de cambio de monedas con greedy"
      ]
    },
    {
      "cell_type": "code",
      "execution_count": 64,
      "metadata": {
        "colab": {
          "base_uri": "https://localhost:8080/"
        },
        "id": "uJtftBLU4-ap",
        "outputId": "bd6115e6-339c-46c4-b4c8-4032a70dd82c"
      },
      "outputs": [
        {
          "data": {
            "text/plain": [
              "{31: 1, 14: 1, 7: 1, 4: 0, 1: 0}"
            ]
          },
          "execution_count": 64,
          "metadata": {},
          "output_type": "execute_result"
        }
      ],
      "source": [
        "def cambio_monedas(valor_a_cambiar: int, monedas_posibles: list[int]) -> dict[int, int]:\n",
        "\n",
        "  # Se ordenan las monedas\n",
        "  monedas_posibles.sort(reverse = True)\n",
        "\n",
        "  # Diccionario que indica la cantidad para cada moneda\n",
        "  solucion = { valor: 0 for valor in monedas_posibles }\n",
        "  valor_acumulado = 0\n",
        "\n",
        "  # Asigna las monedas en orden de mayor a menor\n",
        "  for valor in monedas_posibles:\n",
        "    # Número de monedas que se asignan con un valor de ``valor``\n",
        "    monedas = (valor_a_cambiar - valor_acumulado) // valor\n",
        "    solucion[valor] = monedas\n",
        "\n",
        "    # Cambio obtenido hasta ahora\n",
        "    valor_acumulado = valor_acumulado + monedas * valor\n",
        "\n",
        "    if valor_acumulado == valor_a_cambiar:\n",
        "      return solucion\n",
        "\n",
        "  raise ValueError(\"No se ha podido dar cambio exacto\")\n",
        "\n",
        "\n",
        "cambio_monedas(52, [4, 1, 14, 7, 31])"
      ]
    },
    {
      "cell_type": "markdown",
      "metadata": {
        "id": "g8M9GTvy_Fa3"
      },
      "source": [
        "## N-Reinas por técnica de vuelta atrás\n"
      ]
    },
    {
      "cell_type": "code",
      "execution_count": 77,
      "metadata": {
        "colab": {
          "base_uri": "https://localhost:8080/"
        },
        "id": "FqOPyCmv_K65",
        "outputId": "694fa1ba-6afb-4e8a-db23-7adefe097206"
      },
      "outputs": [
        {
          "name": "stdout",
          "output_type": "stream",
          "text": [
            "[1, 5, 8, 6, 3, 7, 2, 4]\n",
            "[1, 6, 8, 3, 7, 4, 2, 5]\n",
            "[1, 7, 4, 6, 8, 2, 5, 3]\n",
            "[1, 7, 5, 8, 2, 4, 6, 3]\n",
            "[2, 4, 6, 8, 3, 1, 7, 5]\n",
            "[2, 5, 7, 1, 3, 8, 6, 4]\n",
            "[2, 5, 7, 4, 1, 8, 6, 3]\n",
            "[2, 6, 1, 7, 4, 8, 3, 5]\n",
            "[2, 6, 8, 3, 1, 4, 7, 5]\n",
            "[2, 7, 3, 6, 8, 5, 1, 4]\n",
            "[2, 7, 5, 8, 1, 4, 6, 3]\n",
            "[2, 8, 6, 1, 3, 5, 7, 4]\n",
            "[3, 1, 7, 5, 8, 2, 4, 6]\n",
            "[3, 5, 2, 8, 1, 7, 4, 6]\n",
            "[3, 5, 2, 8, 6, 4, 7, 1]\n",
            "[3, 5, 7, 1, 4, 2, 8, 6]\n",
            "[3, 5, 8, 4, 1, 7, 2, 6]\n",
            "[3, 6, 2, 5, 8, 1, 7, 4]\n",
            "[3, 6, 2, 7, 1, 4, 8, 5]\n",
            "[3, 6, 2, 7, 5, 1, 8, 4]\n",
            "[3, 6, 4, 1, 8, 5, 7, 2]\n",
            "[3, 6, 4, 2, 8, 5, 7, 1]\n",
            "[3, 6, 8, 1, 4, 7, 5, 2]\n",
            "[3, 6, 8, 1, 5, 7, 2, 4]\n",
            "[3, 6, 8, 2, 4, 1, 7, 5]\n",
            "[3, 7, 2, 8, 5, 1, 4, 6]\n",
            "[3, 7, 2, 8, 6, 4, 1, 5]\n",
            "[3, 8, 4, 7, 1, 6, 2, 5]\n",
            "[4, 1, 5, 8, 2, 7, 3, 6]\n",
            "[4, 1, 5, 8, 6, 3, 7, 2]\n",
            "[4, 2, 5, 8, 6, 1, 3, 7]\n",
            "[4, 2, 7, 3, 6, 8, 1, 5]\n",
            "[4, 2, 7, 3, 6, 8, 5, 1]\n",
            "[4, 2, 7, 5, 1, 8, 6, 3]\n",
            "[4, 2, 8, 5, 7, 1, 3, 6]\n",
            "[4, 2, 8, 6, 1, 3, 5, 7]\n",
            "[4, 6, 1, 5, 2, 8, 3, 7]\n",
            "[4, 6, 8, 2, 7, 1, 3, 5]\n",
            "[4, 6, 8, 3, 1, 7, 5, 2]\n",
            "[4, 7, 1, 8, 5, 2, 6, 3]\n",
            "[4, 7, 3, 8, 2, 5, 1, 6]\n",
            "[4, 7, 5, 2, 6, 1, 3, 8]\n",
            "[4, 7, 5, 3, 1, 6, 8, 2]\n",
            "[4, 8, 1, 3, 6, 2, 7, 5]\n",
            "[4, 8, 1, 5, 7, 2, 6, 3]\n",
            "[4, 8, 5, 3, 1, 7, 2, 6]\n",
            "[5, 1, 4, 6, 8, 2, 7, 3]\n",
            "[5, 1, 8, 4, 2, 7, 3, 6]\n",
            "[5, 1, 8, 6, 3, 7, 2, 4]\n",
            "[5, 2, 4, 6, 8, 3, 1, 7]\n",
            "[5, 2, 4, 7, 3, 8, 6, 1]\n",
            "[5, 2, 6, 1, 7, 4, 8, 3]\n",
            "[5, 2, 8, 1, 4, 7, 3, 6]\n",
            "[5, 3, 1, 6, 8, 2, 4, 7]\n",
            "[5, 3, 1, 7, 2, 8, 6, 4]\n",
            "[5, 3, 8, 4, 7, 1, 6, 2]\n",
            "[5, 7, 1, 3, 8, 6, 4, 2]\n",
            "[5, 7, 1, 4, 2, 8, 6, 3]\n",
            "[5, 7, 2, 4, 8, 1, 3, 6]\n",
            "[5, 7, 2, 6, 3, 1, 4, 8]\n",
            "[5, 7, 2, 6, 3, 1, 8, 4]\n",
            "[5, 7, 4, 1, 3, 8, 6, 2]\n",
            "[5, 8, 4, 1, 3, 6, 2, 7]\n",
            "[5, 8, 4, 1, 7, 2, 6, 3]\n",
            "[6, 1, 5, 2, 8, 3, 7, 4]\n",
            "[6, 2, 7, 1, 3, 5, 8, 4]\n",
            "[6, 2, 7, 1, 4, 8, 5, 3]\n",
            "[6, 3, 1, 7, 5, 8, 2, 4]\n",
            "[6, 3, 1, 8, 4, 2, 7, 5]\n",
            "[6, 3, 1, 8, 5, 2, 4, 7]\n",
            "[6, 3, 5, 7, 1, 4, 2, 8]\n",
            "[6, 3, 5, 8, 1, 4, 2, 7]\n",
            "[6, 3, 7, 2, 4, 8, 1, 5]\n",
            "[6, 3, 7, 2, 8, 5, 1, 4]\n",
            "[6, 3, 7, 4, 1, 8, 2, 5]\n",
            "[6, 4, 1, 5, 8, 2, 7, 3]\n",
            "[6, 4, 2, 8, 5, 7, 1, 3]\n",
            "[6, 4, 7, 1, 3, 5, 2, 8]\n",
            "[6, 4, 7, 1, 8, 2, 5, 3]\n",
            "[6, 8, 2, 4, 1, 7, 5, 3]\n",
            "[7, 1, 3, 8, 6, 4, 2, 5]\n",
            "[7, 2, 4, 1, 8, 5, 3, 6]\n",
            "[7, 2, 6, 3, 1, 4, 8, 5]\n",
            "[7, 3, 1, 6, 8, 5, 2, 4]\n",
            "[7, 3, 8, 2, 5, 1, 6, 4]\n",
            "[7, 4, 2, 5, 8, 1, 3, 6]\n",
            "[7, 4, 2, 8, 6, 1, 3, 5]\n",
            "[7, 5, 3, 1, 6, 8, 2, 4]\n",
            "[8, 2, 4, 1, 7, 5, 3, 6]\n",
            "[8, 2, 5, 3, 1, 7, 4, 6]\n",
            "[8, 3, 1, 6, 2, 5, 7, 4]\n",
            "[8, 4, 1, 3, 6, 2, 7, 5]\n"
          ]
        }
      ],
      "source": [
        "def escribe_solucion(s):\n",
        "  n = len(s)\n",
        "  for x in range(n):\n",
        "    print(\"\")\n",
        "    for i in range(n):\n",
        "      if s[i] == x + 1:\n",
        "        print(\" X \" , end = \"\")\n",
        "      else:\n",
        "        print(\" - \", end = \"\")\n",
        "\n",
        "\n",
        "def es_prometedora(solucion, etapa) -> bool:\n",
        "  # Si la solución tiene dos valores iguales no es valida => dos reinas en la misma fila\n",
        "  for i in range(etapa + 1):\n",
        "    if solucion.count(solucion[i]) > 1:\n",
        "      return False\n",
        "\n",
        "    # Verifica las diagonales\n",
        "    for j in range(i + 1, etapa + 1):\n",
        "      if abs(i - j) == abs(solucion[i] - solucion[j]):\n",
        "        return False\n",
        "  return True\n",
        "\n",
        "\n",
        "\n",
        "def reinas(n, solucion = [], etapa = 0):\n",
        "  if len(solucion) == 0:\n",
        "      solucion = [ 0 for _ in range(n) ]\n",
        "\n",
        "  for i in range(1, n + 1):\n",
        "    solucion[etapa] = i\n",
        "\n",
        "    if es_prometedora(solucion, etapa):\n",
        "      if etapa == n - 1:\n",
        "        print(solucion)\n",
        "      else:\n",
        "        reinas(n, solucion, etapa + 1)\n",
        "\n",
        "    solucion[etapa] = 0\n",
        "\n",
        "reinas(8)"
      ]
    },
    {
      "cell_type": "markdown",
      "metadata": {
        "id": "p1VZhNzjUfiy"
      },
      "source": [
        "## Viaje por el rio. Programación dinámica"
      ]
    },
    {
      "cell_type": "code",
      "execution_count": 76,
      "metadata": {
        "colab": {
          "base_uri": "https://localhost:8080/"
        },
        "id": "qoqU1XciUdRn",
        "outputId": "d54c0a59-0cbf-40ee-918e-d54c977df709"
      },
      "outputs": [
        {
          "name": "stdout",
          "output_type": "stream",
          "text": [
            "Precios\n",
            "[0, 5, 4, 3, 8, 8, 11]\n",
            "[9999, 0, 999, 2, 3, 8, 7]\n",
            "[9999, 9999, 0, 1, 6, 4, 7]\n",
            "[9999, 9999, 9999, 0, 5, 6, 9]\n",
            "[9999, 9999, 9999, 9999, 0, 999, 4]\n",
            "[9999, 9999, 9999, 9999, 9999, 0, 3]\n",
            "[9999, 9999, 9999, 9999, 9999, 9999, 9999]\n",
            "\n",
            "Rutas\n",
            "[0, 0, 0, 0, 1, 2, 5]\n",
            "['', 1, 1, 1, 1, 3, 4]\n",
            "['', '', 2, 2, 3, 2, 5]\n",
            "['', '', '', 3, 3, 3, 3]\n",
            "['', '', '', '', 4, 4, 4]\n",
            "['', '', '', '', '', 5, 5]\n",
            "['', '', '', '', '', '', '']\n",
            "\n",
            "La ruta entre 0 y 1 es: 0 -> 1\n",
            "La ruta entre 0 y 2 es: 0 -> 2\n",
            "La ruta entre 0 y 3 es: 0 -> 3\n",
            "La ruta entre 0 y 4 es: 0 -> 1 -> 4\n",
            "La ruta entre 0 y 5 es: 0 -> 2 -> 5\n",
            "La ruta entre 0 y 6 es: 0 -> 2 -> 5 -> 6\n",
            "\n",
            "La ruta entre 1 y 2 es: 1 -> 2\n",
            "La ruta entre 1 y 3 es: 1 -> 3\n",
            "La ruta entre 1 y 4 es: 1 -> 4\n",
            "La ruta entre 1 y 5 es: 1 -> 3 -> 5\n",
            "La ruta entre 1 y 6 es: 1 -> 4 -> 6\n",
            "\n",
            "La ruta entre 2 y 3 es: 2 -> 3\n",
            "La ruta entre 2 y 4 es: 2 -> 3 -> 4\n",
            "La ruta entre 2 y 5 es: 2 -> 5\n",
            "La ruta entre 2 y 6 es: 2 -> 5 -> 6\n",
            "\n",
            "La ruta entre 3 y 4 es: 3 -> 4\n",
            "La ruta entre 3 y 5 es: 3 -> 5\n",
            "La ruta entre 3 y 6 es: 3 -> 6\n",
            "\n",
            "La ruta entre 4 y 5 es: 4 -> 5\n",
            "La ruta entre 4 y 6 es: 4 -> 6\n",
            "\n",
            "La ruta entre 5 y 6 es: 5 -> 6\n",
            "\n"
          ]
        }
      ],
      "source": [
        "tarifas = [\n",
        "  [0,5,4,3,999,999,999],\n",
        "  [999,0,999,2,3,999,11],\n",
        "  [999,999,0,1,999,4,10],\n",
        "  [999,999,999, 0,5,6,9],\n",
        "  [999,999,999,999,0,999,4],\n",
        "  [999,999,999,999,999,0,3],\n",
        "  [999,999,999,999,999,999,0]\n",
        "]\n",
        "\n",
        "\n",
        "\n",
        "def calcular_precios(tarifas: list[list[int]]) -> tuple:\n",
        "  \"\"\" Calcula la tabla de precios \"\"\"\n",
        "  # Total de nodos\n",
        "  n = len(tarifas[0])\n",
        "\n",
        "  # Inicialización con costes muy altos por defecto\n",
        "  precios = [\n",
        "    [ 9999  for _ in range(n) ]\n",
        "    for _ in range(n)\n",
        "  ]\n",
        "  # Rutas para pasar por los nodos\n",
        "  rutas = [\n",
        "    [ \"\"  for _ in range(n) ]\n",
        "    for _ in range(n)\n",
        "  ]\n",
        "\n",
        "  for i in range(n - 1):\n",
        "    rutas[i][i] = i       # Para ir de i a i se \"pasa por i\"\n",
        "    precios[i][i] = 0     # Para ir de i a i se se paga 0\n",
        "\n",
        "    # Cálculo del precio de i con el resto\n",
        "    for j in range(i + 1, n):\n",
        "      minimo = tarifas[i][j] # Coste base de i a j\n",
        "      rutas[i][j] = i\n",
        "\n",
        "      # Busca rutas de i a j pasando por nodos intermedios k\n",
        "      for k in range(i, j):\n",
        "        if precios[i][k] + tarifas[k][j] < minimo:\n",
        "            minimo = min(minimo, precios[i][k] + tarifas[k][j])\n",
        "\n",
        "            # Anota que para ir de i a j hay que pasar por k\n",
        "            rutas[i][j] = k\n",
        "\n",
        "        precios[i][j] = minimo\n",
        "\n",
        "  return precios, rutas\n",
        "\n",
        "\n",
        "\n",
        "\n",
        "precios, rutas = calcular_precios(tarifas)\n",
        "\n",
        "print(\"Precios\")\n",
        "for i in range(len(tarifas)):\n",
        "  print(precios[i])\n",
        "\n",
        "print(\"\\nRutas\")\n",
        "for i in range(len(tarifas)):\n",
        "  print(rutas[i])\n",
        "\n",
        "\n",
        "\n",
        "def calcular_ruta(ruta, desde, hasta):\n",
        "  \"\"\" Calcula la ruta entre dos nodos con recursividad \"\"\"\n",
        "  if desde == hasta:\n",
        "    return desde\n",
        "\n",
        "  # Ruta con nodo intermedio\n",
        "  ruta = calcular_ruta(rutas, desde, rutas[desde][hasta])\n",
        "  return f\"{ruta} -> {hasta}\"\n",
        "\n",
        "\n",
        "for origen in range(7):\n",
        "  print()\n",
        "  for destino in range(origen + 1, 7):\n",
        "    print(f\"La ruta entre {origen} y {destino} es: {calcular_ruta(rutas, origen, destino)}\")"
      ]
    }
  ],
  "metadata": {
    "colab": {
      "provenance": []
    },
    "kernelspec": {
      "display_name": "Python 3",
      "name": "python3"
    }
  },
  "nbformat": 4,
  "nbformat_minor": 0
}
