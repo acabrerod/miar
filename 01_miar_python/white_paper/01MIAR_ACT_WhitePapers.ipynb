{
  "cells": [
    {
      "cell_type": "markdown",
      "metadata": {
        "id": "2HjUhKI4cb5d"
      },
      "source": [
        "<img src=\"https://encrypted-tbn0.gstatic.com/images?q=tbn:ANd9GcQfPBCGLDxsK-f0Wnhf9jOj4HnYDCAA8QFvPw&s\" width=\"200\">\n",
        "\n",
        "# 01MIAR - Actividad Whitepapers"
      ]
    },
    {
      "cell_type": "markdown",
      "metadata": {
        "id": "o4gGZDJ5cb5g"
      },
      "source": [
        "# 1. Introducción\n",
        "\n",
        "\n",
        "## 1.1. Contexto\n",
        "\n",
        "El análisis de datos es una disciplina con una importancia creciente, ya que supone una herramienta muy potente para orientar la toma de decisiones o\n",
        "para la automatización de procesos.\n",
        "Un tipo de dato muy relevante en el análisis de datos es el texto, debido a que cada vez hay más datos de este tipo.\n",
        "Sin embargo, para analizarlo normalmente hacen falta técnicas especiales, por lo que se le tiene a prestar menor atención, incluso en ámbitos académicos.\n",
        "Estas particularidades, sumadas a un problema común en aprendizaje supervisado, como es la escasez de individuos etiquetados, dificulta las tareas supervisadas de análisis de texto.\n",
        "\n",
        "\n",
        "## 1.2. Motivación\n",
        "\n",
        "El artículo elegido para esta actividad, *Small-Text: Active Learning for Text Classification in Python* de Schröder C. et al (2021) [1], está relacionado con esta problemática, y presenta una librería que implementa una metodología de aprendizaje activo (*active learning*) para clasificación de texto.\n",
        "El aprendizaje activo es una técnica que pretende minimizar el coste de entrenar un modelo supervisado, mientras que intenta optimizar su rendimiento.\n",
        "Esto lo hace utilizando el menor número posible de datos etiquetados que permitan obtener un rendimiento razonable.\n",
        "Este tipo de técnicas no se habían implementado especialmente orientadas para la clasificación de texto en Python, debido a las características especiales del texto.\n",
        "Los autores de este artículo presentan una librería que proporciona esta funcionalidad, permitiendo abaratar por tanto el entrenamiento de modelos de clasificación de texto.\n",
        "\n",
        "\n",
        "## 1.3. Estructura del cuaderno\n",
        "\n",
        "Este cuaderno sigue la estructura del propio artículo, resumiendo los contenidos de cada sección y reflexionando sobre los mismos.\n",
        "La Sección 2 introduce la librería de `small_text` y la metodología de aprendizaje activo.\n",
        "La Sección 3 presenta una aclaración sobre la fase de etiquetado de los datos por expertos, y la Sección 4 expone un ejemplo de uso de la librería `small_text` utilizando el código propuesto por los autores. Por último, la Sección 5 expone las conclusiones del análisis crítico del artículo."
      ]
    },
    {
      "cell_type": "markdown",
      "metadata": {
        "id": "AC3iVuVxcb5h"
      },
      "source": [
        "# 2. Librería `small-text`\n",
        "\n",
        "La libería `small-text` está diseñada para facilitar el desarrollo de un modelo de clasificación de texto, proporcionando desde un único lugar todos los elementos necesarios.\n",
        "Para entender los elementos de esta librería y sus funciones, es necesario tener alguna noción sobre el proceso de aprendizaje activo.\n",
        "Los principales elementos en una metodología de aprendizaje activo son un clasificador, una estrategia de selección y un criterio de parada. En la siguiente imagen, extraída de la web [cloudfactory.com](https://www.cloudfactory.com), se muestran los pasos del aprendizaje activo."
      ]
    },
    {
      "cell_type": "markdown",
      "metadata": {
        "id": "sSFGRmsacb5i"
      },
      "source": [
        "<div style=\"text-align: center;\">\n",
        "  <img\n",
        "    src=\"https://www.cloudfactory.com/hs-fs/hubfs/04-blog-img/Scalable-Active-Learning-for-Autonomous-Driving.png?width=2130&name=Scalable-Active-Learning-for-Autonomous-Driving.png\" width=\"700\"\n",
        "    alt=\"Elementos de un proceso de aprendizaje activo\"\n",
        "  >\n",
        "</div>"
      ]
    },
    {
      "cell_type": "markdown",
      "metadata": {
        "id": "KwGVS6y7cb5j"
      },
      "source": [
        "1. En primer lugar, se entrena un modelo con un pequeño conjunto de datos etiquetados.\n",
        "2. Después, se utiliza una estrategia de selección (*query strategy*) para determinar qué individuos son más informativos y deben ser etiquetados.\n",
        "3. A continuación, uno o varios expertos etiquetan los individuos seleccionados.\n",
        "4. Por último, se reentrena el modelo con los nuevos datos, y se repite el proceso hasta que se cumpla un determinado criterio de parada.\n",
        "\n",
        "\n",
        "Contenido de la librería:\n",
        "\n",
        "* **Clasificadores**: Está integrada con `scikit-learn`, permitiendo usar todos sus clasificadores.\n",
        "* **Estrategias de selección**: Implementa 13 estrategias de selección diferentes, cubriendo 4 paradigmas distintos: estrategias basadas en confianza, basadas en embeddings, basadas en gradiente y las basadas en 'coresets'. Entre estas estrategias se incluyen las habituales además de algunas especiales para texto.\n",
        "* **Criterios de parada**: Incluye 5 criterios diferentes: predicciones estables, incertidumbre global, cambio en clasificación, cambio en F-measure y número límite de iteraciones.\n",
        "* **Integración con `transformers`**: Permite usar los modelos de lenguaje más modernos, lo que permite aprovechar el uso de GPUs en caso de estar disponibles.\n",
        "\n",
        "\n",
        "En definitiva, esta librería proporciona todos los elementos necesarios la clasificación de texto a escala industrial. Además, ofrece una interfaz sencilla y cómoda que se integra con las librerías más significativas de aprendizaje automático como `scikit-learn`, `torch` y `transformers`."
      ]
    },
    {
      "cell_type": "markdown",
      "metadata": {
        "id": "u1pxwnsNcb5j"
      },
      "source": [
        "# 3. Etiquetado por expertos\n",
        "\n",
        "Los autores establecen una diferencia clara entre las herramientas o software de etiquetado y las librerías.\n",
        "Desde su punto de vista, su naturaleza es completamente distinta, dado que las herramientas de etiquetado están pensadas para interaccionar con usuarios y normalmente tienen una interfaz gráfica.\n",
        "Por este motivo, los autores han preferido diseñar la librería como un 'standalone', para facilitar su uso en cualquier tipo de entorno.\n",
        "De esta manera, no condicionan el uso de una interfaz específica, y se pueden centrar en mantener un diseño agnóstico que sea fácilmente integrable en cualquier tipo de organización o proceso.\n",
        "En este sentido, los autores destacan que su librería se podría utilizar como un 'backend' de una aplicación web, con herramientas de etiquetado existentes o en un contexto experimental."
      ]
    },
    {
      "cell_type": "markdown",
      "metadata": {
        "id": "dn4u62nDcb5k"
      },
      "source": [
        "# 4. Ejemplo de uso\n",
        "\n",
        "Los autores también proponen un ejemplo simple de uso de su librería implementando un clasificador de spam.\n",
        "En él, demuestran como se puede utilizar la librería en un proceso de aprendizaje activo.\n",
        "Esta sección reproduce este mismo ejemplo, aunque usando un modelo más simple al no tener disponible una GPU.\n",
        "Los pasos del ejemplo son los siguientes:\n",
        "\n",
        "1. Instalación de la librería\n",
        "2. Crear los datos de ejemplo\n",
        "3. Configurar los parámetros del aprendizaje activo\n",
        "4. Inicializar el modelo\n",
        "5. Comenzar el bucle de aprendizaje activo\n",
        "\n",
        "\n",
        "## 4.1. Instalación\n",
        "\n",
        "La librería se puede instalar desde pip, por lo que se puede usar el siguiente comando:\n",
        "\n",
        "```bash\n",
        "pip install small_text\n",
        "```\n",
        "\n",
        "\n",
        "## 4.2. Datos de ejemplo\n",
        "\n",
        "Para el ejemplo, se crea un pequeño conjunto de datos que consta de 100 pequeños textos y 2 categorías. Cada categoría contiene el mismo texto, que son: 'this is ham' y 'this is spam'.\n",
        "Los autores en su ejemplo proponen el uso del modelo 'bert-base-uncased', que ha resultado ser bastante costoso computacionalmente. Al no disponer de una GPU, se ha intercambiado este modelo por 'albert-base-v2', que es más simple."
      ]
    },
    {
      "cell_type": "code",
      "execution_count": 22,
      "metadata": {
        "colab": {
          "base_uri": "https://localhost:8080/"
        },
        "id": "prmU3Laycb5k",
        "outputId": "ed10a0ba-fc95-4615-cee9-3b6cf46a0ed7"
      },
      "outputs": [
        {
          "output_type": "stream",
          "name": "stderr",
          "text": [
            "/usr/local/lib/python3.11/dist-packages/small_text/utils/annotations.py:67: ExperimentalWarning: The function from_arrays is experimental and maybe subject to change soon.\n",
            "  warnings.warn(f'The {subject} {func_or_class.__name__} is experimental '\n"
          ]
        }
      ],
      "source": [
        "import numpy as np\n",
        "from small_text import TransformersDataset, TransformerModelArguments\n",
        "from transformers import AutoTokenizer\n",
        "\n",
        "\n",
        "# Fake data example:\n",
        "# 50 spam and 50 non-spam examples\n",
        "text = np.array(['this is ham'] * 50 + ['this is spam'] * 50)\n",
        "labels = np.array([0] * 50 + [1] * 50)\n",
        "\n",
        "transformer_model = 'albert-base-v2'\n",
        "tokenizer = AutoTokenizer.from_pretrained(transformer_model)\n",
        "\n",
        "train = TransformersDataset.from_arrays(\n",
        "    text, labels, tokenizer,\n",
        "    target_labels = np.array([0, 1]),\n",
        "    max_length = 10\n",
        ")"
      ]
    },
    {
      "cell_type": "markdown",
      "metadata": {
        "id": "0zHXYipncb5l"
      },
      "source": [
        "## 4.3. Configuración del aprendizaje activo\n",
        "\n",
        "En este paso se definen las estrategias de selección y el modelo de clasificación."
      ]
    },
    {
      "cell_type": "code",
      "execution_count": 23,
      "metadata": {
        "id": "acORUYzjcb5m"
      },
      "outputs": [],
      "source": [
        "from small_text import LeastConfidence, TransformerBasedClassificationFactory as TransformerFactory\n",
        "\n",
        "\n",
        "# Modelo de clasificación\n",
        "num_classes = 2\n",
        "model_args = TransformerModelArguments(transformer_model)\n",
        "clf_factory = TransformerFactory(model_args, num_classes)\n",
        "\n",
        "# Estrategia de selección\n",
        "query_strategy = LeastConfidence()"
      ]
    },
    {
      "cell_type": "markdown",
      "metadata": {
        "id": "7mtRQJaKcb5m"
      },
      "source": [
        "## 4.4. Inicialización\n",
        "\n",
        "El paso de inicialización entrena un modelo con un conjunto pequeño de datos, a partir del cual se comenzará con el aprendizaje activo.\n",
        "En este caso se entrena el modelo utilizando una muestra de 10 textos, ya que en este caso se conocen las etiquetas y no es necesaria interacción humana.\n",
        "En escenarios alternativos se podría usar una estrategia de 'cold start', o empezar directamente con alguna estrategia de selección y etiquetar una pequeña muestra."
      ]
    },
    {
      "cell_type": "code",
      "execution_count": 24,
      "metadata": {
        "id": "mMurYjmZcb5n"
      },
      "outputs": [],
      "source": [
        "from small_text import PoolBasedActiveLearner, random_initialization_balanced as init\n",
        "\n",
        "\n",
        "active_learner = PoolBasedActiveLearner(clf_factory, query_strategy, train)\n",
        "\n",
        "# Provide initial data.\n",
        "indices_initial = init(train.y, n_samples = 10)\n",
        "active_learner.initialize_data(\n",
        "    indices_initial,\n",
        "    train.y[indices_initial]\n",
        ")"
      ]
    },
    {
      "cell_type": "markdown",
      "metadata": {
        "id": "sdRe32Qocb5o"
      },
      "source": [
        "# 4.5. Bucle de aprendizaje activo\n",
        "\n",
        "En este paso se realiza el aprendizaje activo, que es el elemento central de la metodología.\n",
        "En este bucle se realizan un máximo de 5 iteraciones, aunque como indican los autores, se podría utilizar otro criterio de parada con muy pocas líneas de código adicionales.\n",
        "Para simular el etiquetado de los textos que se seleccionan, se toman sus etiquetas del dataset creado al principio.\n",
        "Despues, el modelo se actualiza con la función `update`, y se imprime por pantalla la exactitud (*accuracy*) del modelo."
      ]
    },
    {
      "cell_type": "code",
      "execution_count": 25,
      "metadata": {
        "colab": {
          "base_uri": "https://localhost:8080/"
        },
        "id": "ATEcipSDcb5o",
        "outputId": "faeb23f5-9e83-4baa-9df8-af1e7dd11441"
      },
      "outputs": [
        {
          "output_type": "stream",
          "name": "stdout",
          "text": [
            "Iteration 1\n",
            "Train accuracy: 1.00\n",
            "Iteration 2\n",
            "Train accuracy: 1.00\n",
            "Iteration 3\n",
            "Train accuracy: 1.00\n",
            "Iteration 4\n",
            "Train accuracy: 1.00\n",
            "Iteration 5\n",
            "Train accuracy: 1.00\n"
          ]
        }
      ],
      "source": [
        "from sklearn.metrics import accuracy_score\n",
        "\n",
        "\n",
        "num_queries = 5\n",
        "for i in range(num_queries):\n",
        "    # Query 10 samples per iteration.\n",
        "    indices_queried = active_learner.query(num_samples = 10)\n",
        "\n",
        "    # Simulate user interaction here.\n",
        "    # Replace this for real-world usage.\n",
        "    y = train.y[indices_queried]\n",
        "\n",
        "    # Provide labels for the queried indices.\n",
        "    active_learner.update(y)\n",
        "\n",
        "    # Evaluate accuracy on the train set\n",
        "    print(f'Iteration {i + 1}')\n",
        "    y_pred = active_learner.classifier.predict(train)\n",
        "    print('Train accuracy: {:.2f}'.format(accuracy_score(y_pred, train.y)))"
      ]
    },
    {
      "cell_type": "markdown",
      "metadata": {
        "id": "daWPs9s-cb5o"
      },
      "source": [
        "# 5. *SetFit* con aprendizaje activo\n",
        "\n",
        "La técnica de *SetFit* es una técnica novedosa de *fine-tuning* que fue presentada por investigadores de Huggingface en 2022, y que presenta muchas mejoras con respecto al *fine-tuning* convencional.\n",
        "Esta técnica resulta especialmente eficaz cuando se disponen de pocos ejemplos etiquetados, que es el mismo problema al que se enfrenta el aprendizaje activo.\n",
        "Exponer esta técnica no es el objetivo del estudio, aunque los autores la utilizan para mostrar la eficacia y el interés del aprendizaje activo con su librería.\n",
        "En el artículo, los autores ajustan un modelo de clasificación de texto con *SetFit* y lo comparan a un modelo con un ajuste convencional.\n",
        "En sus resultados encuentran que la técnica *SetFit* mejora la exactitud del modelo, y que además, la métrica AUC (*area under the curve*) presenta una mejora bastante significativa."
      ]
    },
    {
      "cell_type": "markdown",
      "metadata": {
        "id": "z_AJUAqBcb5o"
      },
      "source": [
        "# 6. Conclusiones\n",
        "\n",
        "La clasificación de texto es una tarea muy relevante pero que presenta una gran cantidad de retos.\n",
        "En este cuaderno se han podido exponer dos de ellos, como son la poca disponibilidad de datos etiquetados y el alto coste computacional de entrenar los modelos.\n",
        "Para poder superar estos retos, la metodología de aprendizaje activo es una gran aliada, ya que con ella podemos abaratar significativamente el entrenamiento de cualquier modelo de clasificación.\n",
        "Esta reducción de costes es muy importante en el caso del texto, ya que los modelos más modernos tienen un coste base muy elevado.\n",
        "Manejando estas escalas de gasto, cualquier reducción del coste supone un ahorro de recursos muy significativo, en términos energéticos, monetarios y temporales.\n",
        "Además, los beneficios de esta metodología se pueden incrementar de la mano de otras técnicas como *SetFit*, que aplican los autores en el artículo.\n",
        "Por último, también cabe destacar la librería `small_text`, que permite aprovechar todos estos beneficios desde Python, utilizando una interfaz sencilla y familiar."
      ]
    },
    {
      "cell_type": "markdown",
      "metadata": {
        "id": "b1uFHAd2cb5o"
      },
      "source": [
        "# Referencias\n",
        "\n",
        "[1] Christopher Schröder, Lydia Müller, Andreas Niekler, and Martin Potthast (2023). Small-Text: Active Learning for Text Classification in Python. *arXiv preprint arXiv:2107.10314*. [https://arxiv.org/abs/2107.10314](https://arxiv.org/abs/2107.10314)."
      ]
    }
  ],
  "metadata": {
    "kernelspec": {
      "display_name": "Python 3",
      "language": "python",
      "name": "python3"
    },
    "language_info": {
      "codemirror_mode": {
        "name": "ipython",
        "version": 3
      },
      "file_extension": ".py",
      "mimetype": "text/x-python",
      "name": "python",
      "nbconvert_exporter": "python",
      "pygments_lexer": "ipython3",
      "version": "3.13.2"
    },
    "colab": {
      "provenance": []
    }
  },
  "nbformat": 4,
  "nbformat_minor": 0
}